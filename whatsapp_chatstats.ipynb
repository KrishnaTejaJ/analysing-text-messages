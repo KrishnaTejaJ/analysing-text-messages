{
  "nbformat": 4,
  "nbformat_minor": 0,
  "metadata": {
    "colab": {
      "name": "whatsapp_chatstats_githubversion.ipynb",
      "provenance": [],
      "collapsed_sections": [],
      "toc_visible": true
    },
    "kernelspec": {
      "name": "python3",
      "display_name": "Python 3"
    }
  },
  "cells": [
    {
      "cell_type": "markdown",
      "metadata": {
        "id": "Vlp8g3HTIWc4",
        "colab_type": "text"
      },
      "source": [
        "# This entire script gives a detailed code walk-through on how to extract interesting insights from your own WhatsApp chat data."
      ]
    },
    {
      "cell_type": "markdown",
      "metadata": {
        "id": "Wp1qnve4I-cT",
        "colab_type": "text"
      },
      "source": [
        "Install demoji and emoji packages.\n",
        "The below code shows packages installation on Google Colab, if using any other notebook or editor then follow the respective package installation process."
      ]
    },
    {
      "cell_type": "code",
      "metadata": {
        "id": "9kVu2ozzceSZ",
        "colab_type": "code",
        "colab": {}
      },
      "source": [
        "!pip install demoji\n",
        "!pip install emoji"
      ],
      "execution_count": null,
      "outputs": []
    },
    {
      "cell_type": "markdown",
      "metadata": {
        "id": "zcQZ8fJkL5v5",
        "colab_type": "text"
      },
      "source": [
        "###The following process is on how to extract WhatsApp chat data\n",
        "\n",
        "1.   Select your Chat. \n",
        "2.   Select \"More\" in the dropdown menu of your desired chat.\n",
        "3.   Select \"Export chat\".\n",
        "4.   Select \"Without media\".\n",
        "5.   Select any of the methods to export the chat, either through Gmail or Google Drive.   \n",
        "\n"
      ]
    },
    {
      "cell_type": "markdown",
      "metadata": {
        "id": "B2QMDWVnPgOz",
        "colab_type": "text"
      },
      "source": [
        "The chat file after exporting is in txt format."
      ]
    },
    {
      "cell_type": "code",
      "metadata": {
        "id": "K-Vkn4mKoQyA",
        "colab_type": "code",
        "colab": {}
      },
      "source": [
        "raw_data = open(\"WhatsApp Chat with x.txt\")"
      ],
      "execution_count": 140,
      "outputs": []
    },
    {
      "cell_type": "markdown",
      "metadata": {
        "id": "JCC7nBgpP5am",
        "colab_type": "text"
      },
      "source": [
        "###Create a csv file, which will later be used as a pandas dataframe."
      ]
    },
    {
      "cell_type": "code",
      "metadata": {
        "id": "OhPREVi96hlE",
        "colab_type": "code",
        "colab": {}
      },
      "source": [
        "import csv\n",
        "with open('chat.csv', mode='w') as csv_file:\n",
        "  csvwriter = csv.writer(csv_file)\n",
        "  csvwriter.writerow(['Date', 'Time', 'Name', 'Message'])"
      ],
      "execution_count": 141,
      "outputs": []
    },
    {
      "cell_type": "markdown",
      "metadata": {
        "id": "5oxFKok5SeaT",
        "colab_type": "text"
      },
      "source": [
        "The below code creates a \"chat.csv\" file which cleans the raw_data.\n",
        "\n",
        "Regular expressions are used to validate the date and time of a text from raw_data.\n",
        "Two regular expressions are used as there are two types of date and time formats is different chats. (could be more, feel free to explore)\n",
        "\n",
        "String slicing is then used to seperate Date, Time, Name and Message sections and add them to the \"chat.csv\" file."
      ]
    },
    {
      "cell_type": "code",
      "metadata": {
        "id": "BAsF0m995S8b",
        "colab_type": "code",
        "colab": {}
      },
      "source": [
        "import regex\n",
        "line_num = 0\n",
        "\n",
        "for line in raw_data:\n",
        "  line_num += 1\n",
        "  if regex.match('[0-9]+/[0-9]+/[0-9]+, [0-9]+:[0-9]+ [AP]M - .*: .*', line) is not None \\\n",
        "    or regex.match('[0-9]+/[0-9]+/[0-9]+, [0-9]+:[0-9]+ - .*: .*', line) is not None:\n",
        "    sep = line.find('-')\n",
        "    timestamp = line[0:sep]\n",
        "    timestamp = timestamp.split(', ')\n",
        "    name_sep = line.find(':', sep) #asuming the name doesn't have ':'\n",
        "    name = line[sep+2:name_sep]\n",
        "    message = line[name_sep+1:]\n",
        "    with open('chat.csv', mode='a+', newline='') as csv_file:\n",
        "      csvwriter = csv.writer(csv_file)\n",
        "      csvwriter.writerow([timestamp[0], timestamp[1], name, message])"
      ],
      "execution_count": 142,
      "outputs": []
    },
    {
      "cell_type": "markdown",
      "metadata": {
        "id": "8cBI0VM1WBEg",
        "colab_type": "text"
      },
      "source": [
        "###Covert the \"chat.csv\" to pandas dataframe."
      ]
    },
    {
      "cell_type": "code",
      "metadata": {
        "id": "xJ88OAGzV_a8",
        "colab_type": "code",
        "colab": {}
      },
      "source": [
        "import pandas as pd\n",
        "wa_data = pd.read_csv('chat.csv')"
      ],
      "execution_count": 143,
      "outputs": []
    },
    {
      "cell_type": "markdown",
      "metadata": {
        "id": "3W-eCGeLWOUR",
        "colab_type": "text"
      },
      "source": [
        "(Optional)\n",
        "I have used the following piece of code to mask the actual names with dummy names."
      ]
    },
    {
      "cell_type": "code",
      "metadata": {
        "id": "UtUWBdwqEpl0",
        "colab_type": "code",
        "colab": {}
      },
      "source": [
        "new_names = []\n",
        "for i in range(len(wa_data.Name.unique())):\n",
        "  new_names.append('Member'+str(i+1))\n",
        "wa_data.replace(list(wa_data.Name.unique()), new_names, inplace = True)"
      ],
      "execution_count": 144,
      "outputs": []
    },
    {
      "cell_type": "markdown",
      "metadata": {
        "id": "N34uEzq7WqKh",
        "colab_type": "text"
      },
      "source": [
        "##Let the fun begin!!!"
      ]
    },
    {
      "cell_type": "markdown",
      "metadata": {
        "id": "pgOx6rR8W1cV",
        "colab_type": "text"
      },
      "source": [
        "###Text counts of each person in the chat"
      ]
    },
    {
      "cell_type": "code",
      "metadata": {
        "id": "D3XpBjZhKTg4",
        "colab_type": "code",
        "colab": {
          "base_uri": "https://localhost:8080/",
          "height": 108
        },
        "outputId": "1aacc363-e685-4d49-cb0a-b78b8bdf2ff9"
      },
      "source": [
        "wa_data['Name'].value_counts()"
      ],
      "execution_count": 145,
      "outputs": [
        {
          "output_type": "execute_result",
          "data": {
            "text/plain": [
              "Member1    17585\n",
              "Member4    11048\n",
              "Member3     7750\n",
              "Member2     3580\n",
              "Name: Name, dtype: int64"
            ]
          },
          "metadata": {
            "tags": []
          },
          "execution_count": 145
        }
      ]
    },
    {
      "cell_type": "code",
      "metadata": {
        "id": "_Mt8xPy5nZzG",
        "colab_type": "code",
        "colab": {}
      },
      "source": [
        "import numpy as np\n",
        "\n",
        "def max_min_dict(dnary):\n",
        "  minv = np.inf\n",
        "  maxv = 0\n",
        "  for key, value in dnary.items():\n",
        "    if value > maxv:\n",
        "      maxv, maxk = value, key\n",
        "    if value < minv:\n",
        "      minv, mink = value, key\n",
        "  return maxk, maxv, mink, minv"
      ],
      "execution_count": 146,
      "outputs": []
    },
    {
      "cell_type": "markdown",
      "metadata": {
        "id": "QzKFS2Z7Xj44",
        "colab_type": "text"
      },
      "source": [
        "###Most active dates"
      ]
    },
    {
      "cell_type": "code",
      "metadata": {
        "id": "YRfRN_BFYCTz",
        "colab_type": "code",
        "colab": {
          "base_uri": "https://localhost:8080/",
          "height": 945
        },
        "outputId": "7c2b7c5c-1087-4c60-ea7d-f57b3f3e5651"
      },
      "source": [
        "print('Total Number of days of chat:', len(wa_data['Date'].unique()))\n",
        "print('Texts per day (decreasing order of number of texts)')\n",
        "wa_data['Date'].value_counts()"
      ],
      "execution_count": 147,
      "outputs": [
        {
          "output_type": "stream",
          "text": [
            "Total Number of days of chat: 48\n",
            "Texts per day (decreasing order of number of texts)\n"
          ],
          "name": "stdout"
        },
        {
          "output_type": "execute_result",
          "data": {
            "text/plain": [
              "4/17/20    1668\n",
              "5/18/20    1593\n",
              "5/26/20    1570\n",
              "4/27/20    1437\n",
              "5/6/20     1386\n",
              "5/19/20    1361\n",
              "5/23/20    1354\n",
              "4/13/20    1299\n",
              "4/14/20    1255\n",
              "4/30/20    1250\n",
              "5/11/20    1247\n",
              "4/12/20    1193\n",
              "5/9/20     1114\n",
              "5/21/20    1051\n",
              "5/20/20    1035\n",
              "4/25/20    1016\n",
              "5/22/20     977\n",
              "4/16/20     928\n",
              "5/13/20     903\n",
              "5/7/20      902\n",
              "5/5/20      874\n",
              "4/28/20     817\n",
              "5/10/20     796\n",
              "5/17/20     771\n",
              "5/15/20     770\n",
              "5/25/20     758\n",
              "4/24/20     688\n",
              "5/4/20      658\n",
              "4/23/20     650\n",
              "5/16/20     648\n",
              "4/26/20     643\n",
              "5/14/20     641\n",
              "4/21/20     633\n",
              "5/28/20     626\n",
              "4/19/20     568\n",
              "5/8/20      559\n",
              "4/29/20     554\n",
              "5/24/20     529\n",
              "5/3/20      484\n",
              "4/15/20     479\n",
              "4/22/20     475\n",
              "5/12/20     472\n",
              "5/27/20     400\n",
              "4/18/20     295\n",
              "4/20/20     236\n",
              "5/1/20      218\n",
              "4/11/20     122\n",
              "5/2/20       60\n",
              "Name: Date, dtype: int64"
            ]
          },
          "metadata": {
            "tags": []
          },
          "execution_count": 147
        }
      ]
    },
    {
      "cell_type": "markdown",
      "metadata": {
        "id": "G0DIh1eJYnPh",
        "colab_type": "text"
      },
      "source": [
        "###Most active weekdays"
      ]
    },
    {
      "cell_type": "code",
      "metadata": {
        "id": "zce_m37ZK77H",
        "colab_type": "code",
        "colab": {
          "base_uri": "https://localhost:8080/",
          "height": 528
        },
        "outputId": "df72c737-1e78-456c-c7fb-1522a1fc6c34"
      },
      "source": [
        "import datetime\n",
        "from collections import Counter\n",
        "import matplotlib.pyplot as plt\n",
        "\n",
        "weekday_list = []\n",
        "weekday_member = {}\n",
        "\n",
        "#extracting the count of texts on weekdays\n",
        "for row in range(wa_data.shape[0]):\n",
        "  month, day, year = wa_data.iloc[row][0].split('/')\n",
        "  total_date = datetime.datetime(int(year), int(month), int(day))\n",
        "  weekday = total_date.strftime(\"%A\")\n",
        "  name = wa_data.iloc[row][2]\n",
        "  weekday_member.setdefault(name, []).append(weekday)\n",
        "  weekday_list.append(weekday)\n",
        "weekday_count = Counter(weekday_list)\n",
        "\n",
        "#number of texts on weekdays of the whole conversation\n",
        "print('Weekdays texts count:\\n', dict(weekday_count))\n",
        "\n",
        "#number of texts of each member in weekdays\n",
        "'''for name in weekday_member.keys():\n",
        "  print('\\n' + name + \"'s weekdays texts count\\n\", dict(Counter(weekday_member[name])))'''\n",
        "\n",
        "#active and non-active weekdays of the whole conversion\n",
        "maximum_day_whole, maximum_count_whole, minimum_day_whole, minimum_count_whole = max_min_dict(dict(weekday_count))\n",
        "print(\"\\nThe whole conversation\\n\")\n",
        "print('Day with maximum texts:', maximum_day_whole, '| number of texts:', maximum_count_whole)\n",
        "print('Day with minimum texts:', minimum_day_whole, '| number of texts:', minimum_count_whole)\n",
        "\n",
        "#active and non-active weekdays of individual members\n",
        "for name in weekday_member.keys():\n",
        "  print('\\n' + name + \"'s weekdays texts\\n\")\n",
        "  maximum_day, maximum_count, minimum_day, minimum_count = max_min_dict(dict(Counter(weekday_member[name])))\n",
        "  print('Day with maximum texts:', maximum_day, '| number of texts:', maximum_count)\n",
        "  print('Day with minimum texts:', minimum_day, '| number of texts:', minimum_count)"
      ],
      "execution_count": 148,
      "outputs": [
        {
          "output_type": "stream",
          "text": [
            "Weekdays texts count:\n",
            " {'Saturday': 4609, 'Sunday': 4984, 'Monday': 7228, 'Tuesday': 6982, 'Wednesday': 5232, 'Thursday': 6048, 'Friday': 4880}\n",
            "\n",
            "The whole conversation\n",
            "\n",
            "Day with maximum texts: Monday | number of texts: 7228\n",
            "Day with minimum texts: Saturday | number of texts: 4609\n",
            "\n",
            "Member1's weekdays texts\n",
            "\n",
            "Day with maximum texts: Tuesday | number of texts: 3340\n",
            "Day with minimum texts: Friday | number of texts: 1951\n",
            "\n",
            "Member2's weekdays texts\n",
            "\n",
            "Day with maximum texts: Monday | number of texts: 696\n",
            "Day with minimum texts: Wednesday | number of texts: 367\n",
            "\n",
            "Member3's weekdays texts\n",
            "\n",
            "Day with maximum texts: Monday | number of texts: 1527\n",
            "Day with minimum texts: Saturday | number of texts: 861\n",
            "\n",
            "Member4's weekdays texts\n",
            "\n",
            "Day with maximum texts: Monday | number of texts: 1943\n",
            "Day with minimum texts: Saturday | number of texts: 1293\n"
          ],
          "name": "stdout"
        }
      ]
    },
    {
      "cell_type": "code",
      "metadata": {
        "id": "JhZHfmWFL38M",
        "colab_type": "code",
        "colab": {
          "base_uri": "https://localhost:8080/",
          "height": 252
        },
        "outputId": "c9b2f557-ebe0-46a6-df02-c4a307673f35"
      },
      "source": [
        "'''\n",
        "#plotting bar - graph 'Number of Texts vs Weekdays'\n",
        "plt.figure(figsize=(8,5))\n",
        "plt.bar(range(len(weekday_count)), weekday_count.values(), align='center')\n",
        "plt.xticks(range(len(weekday_count)), list(weekday_count.keys()))\n",
        "plt.title('Weekdays texts count', fontsize=15)\n",
        "plt.xlabel('Weekdays', fontsize=13)\n",
        "plt.ylabel('Number of Texts', fontsize=13)\n",
        "plt.show()\n",
        "#individual graphs for all the members can also be plotted in the similar way\n",
        "'''\n",
        "\n",
        "#pie-chart\n",
        "weekday_ids = {'Saturday': 0, 'Sunday': 1, 'Monday': 2, 'Tuesday': 3, 'Wednesday': 4, 'Thursday': 5, 'Friday': 6}\n",
        "labels = weekday_count.keys()\n",
        "sizes = weekday_count.values()\n",
        "\n",
        "explode = [0, 0, 0, 0, 0, 0, 0]\n",
        "explode[weekday_ids[maximum_day_whole]] = 0.2\n",
        "explode = tuple(explode) #maximum_day pie is exploded\n",
        "\n",
        "fig1, ax1 = plt.subplots()\n",
        "ax1.pie(sizes, explode=explode, labels=labels, autopct='%1.1f%%', shadow=True, startangle=90)\n",
        "ax1.axis('equal')  # Equal aspect ratio ensures that pie is drawn as a circle.\n",
        "plt.show()"
      ],
      "execution_count": 149,
      "outputs": [
        {
          "output_type": "display_data",
          "data": {
            "image/png": "[encoded data removed]",
            "text/plain": [
              "<Figure size 432x288 with 1 Axes>"
            ]
          },
          "metadata": {
            "tags": []
          }
        }
      ]
    },
    {
      "cell_type": "markdown",
      "metadata": {
        "id": "4vxkBcNNsuvd",
        "colab_type": "text"
      },
      "source": [
        "###Most active hour of the day"
      ]
    },
    {
      "cell_type": "code",
      "metadata": {
        "id": "rsAxl5TJLC9P",
        "colab_type": "code",
        "colab": {
          "base_uri": "https://localhost:8080/",
          "height": 528
        },
        "outputId": "7d8cdc39-8506-44ea-b49c-a862eba1dcb4"
      },
      "source": [
        "wa_data['Time'].value_counts()\n",
        "time = wa_data['Time'].values\n",
        "\n",
        "hour_list = []\n",
        "hour_member = {}\n",
        "\n",
        "#extracting the count of texts in a particular hour of the day, 24 hour format\n",
        "for row in range(wa_data.shape[0]):\n",
        "  hour = wa_data.iloc[row][1]\n",
        "  hour_num = int(hour[0 : hour.find(':')])\n",
        "  if 'PM' in hour:\n",
        "    hour_num += 12\n",
        "  name = wa_data.iloc[row][2]\n",
        "  hour_member.setdefault(name, []).append(hour_num)\n",
        "  hour_list.append(hour_num)\n",
        "\n",
        "hour_count = Counter(hour_list)\n",
        "\n",
        "#number of texts of whole conversation in an hour of the day\n",
        "print('Texts in a hour:\\n', dict(hour_count))\n",
        "\n",
        "#number of texts of each member in an hour of the day\n",
        "'''for name in hour_member.keys():\n",
        "  print('\\n' + name + \"'s hourly texts count\\n\", dict(Counter(hour_member[name])))'''\n",
        "\n",
        "#active and non-active hours of the whole conversion\n",
        "maximum_hour_whole, maximum_count_whole, minimum_hour_whole, minimum_count_whole = max_min_dict(dict(hour_count))\n",
        "print(\"\\nThe whole conversation\\n\")\n",
        "print('Hour of the day with maximum texts:', maximum_hour_whole, '| number of texts:', maximum_count_whole)\n",
        "print('Hour of the day with minimum texts:', minimum_hour_whole, '| number of texts:', minimum_count_whole)\n",
        "\n",
        "#active and non-active hours of all members\n",
        "for name in hour_member.keys():\n",
        "  print('\\n' + name + \"'s hourly texts\\n\")\n",
        "  maximum_hour, maximum_count, minimum_hour, minimum_count = max_min_dict(dict(Counter(hour_member[name])))\n",
        "  print('Hour of the day with maximum texts:', maximum_hour, '| number of texts:', maximum_count)\n",
        "  print('Hour of the day with minimum texts:', minimum_hour, '| number of texts:', minimum_count)"
      ],
      "execution_count": 150,
      "outputs": [
        {
          "output_type": "stream",
          "text": [
            "Texts in a hour:\n",
            " {23: 3435, 12: 1090, 8: 491, 9: 2322, 10: 3340, 11: 3071, 24: 2680, 13: 1619, 14: 2343, 15: 2212, 17: 2513, 18: 2052, 19: 2956, 20: 1655, 21: 1825, 22: 3738, 16: 2224, 1: 182, 7: 207, 6: 8}\n",
            "\n",
            "The whole conversation\n",
            "\n",
            "Hour of the day with maximum texts: 22 | number of texts: 3738\n",
            "Hour of the day with minimum texts: 6 | number of texts: 8\n",
            "\n",
            "Member1's hourly texts\n",
            "\n",
            "Hour of the day with maximum texts: 22 | number of texts: 1748\n",
            "Hour of the day with minimum texts: 6 | number of texts: 3\n",
            "\n",
            "Member2's hourly texts\n",
            "\n",
            "Hour of the day with maximum texts: 10 | number of texts: 421\n",
            "Hour of the day with minimum texts: 6 | number of texts: 2\n",
            "\n",
            "Member3's hourly texts\n",
            "\n",
            "Hour of the day with maximum texts: 23 | number of texts: 798\n",
            "Hour of the day with minimum texts: 6 | number of texts: 1\n",
            "\n",
            "Member4's hourly texts\n",
            "\n",
            "Hour of the day with maximum texts: 23 | number of texts: 1056\n",
            "Hour of the day with minimum texts: 6 | number of texts: 2\n"
          ],
          "name": "stdout"
        }
      ]
    },
    {
      "cell_type": "code",
      "metadata": {
        "id": "mjd19MQpMXhQ",
        "colab_type": "code",
        "colab": {
          "base_uri": "https://localhost:8080/",
          "height": 355
        },
        "outputId": "433561c6-dff5-4c14-ca46-37b1716d15ba"
      },
      "source": [
        "'''#pie-chart\n",
        "labels = hour_count.keys()\n",
        "sizes = hour_count.values()\n",
        "\n",
        "explode = [i*0 for i in range(len(sizes))] #len(sizes) is used to make sure to create those hours of the day where conversations did happen\n",
        "explode_target = list(labels).index(maximum_hour_whole)\n",
        "explode[explode_target] = 0.2\n",
        "explode = tuple(explode) #maximum_day pie is exploded\n",
        "\n",
        "#fig1, ax1 = plt.subplots()\n",
        "fig1, ax1 = plt.subplots(figsize=(7, 7))\n",
        "ax1.pie(sizes, explode=explode, labels=labels, autopct='%1.0f%%', shadow=True, startangle=90)\n",
        "ax1.axis('equal')  # Equal aspect ratio ensures that pie is drawn as a circle.\n",
        "plt.show()'''\n",
        "\n",
        "\n",
        "#plotting graph 'Number of Texts vs Hour of the day'\n",
        "plt.figure(figsize=(8, 5))\n",
        "plt.bar(range(len(hour_count)), hour_count.values(), align='center')\n",
        "plt.xticks(range(len(hour_count)), list(hour_count.keys()))\n",
        "plt.title('Hourly texts count', fontsize=15)\n",
        "plt.xlabel('Hour of the day', fontsize=13)\n",
        "plt.ylabel('Number of Texts', fontsize=13)\n",
        "plt.show()\n",
        "#individual graphs for all the members can also be plotted in the similar way"
      ],
      "execution_count": 151,
      "outputs": [
        {
          "output_type": "display_data",
          "data": {
            "image/png": "[encoded data removed]",
            "text/plain": [
              "<Figure size 576x360 with 1 Axes>"
            ]
          },
          "metadata": {
            "tags": [],
            "needs_background": "light"
          }
        }
      ]
    },
    {
      "cell_type": "markdown",
      "metadata": {
        "id": "AJRZbV5NxZ5h",
        "colab_type": "text"
      },
      "source": [
        "###The Good Morning trend..."
      ]
    },
    {
      "cell_type": "code",
      "metadata": {
        "id": "O3MFnKhsLTAh",
        "colab_type": "code",
        "colab": {}
      },
      "source": [
        "import demoji\n",
        "demoji.download_codes()"
      ],
      "execution_count": null,
      "outputs": []
    },
    {
      "cell_type": "code",
      "metadata": {
        "id": "IdrxQ8laDszX",
        "colab_type": "code",
        "colab": {
          "base_uri": "https://localhost:8080/",
          "height": 199
        },
        "outputId": "a712da95-d367-42d0-b651-620c2a386317"
      },
      "source": [
        "wakeup_list = [0, 0, 0] #[hours, mins, count]\n",
        "wakeup_member = {}\n",
        "\n",
        "for row in range(wa_data.shape[0]):\n",
        "  time = [0, 0, 0]\n",
        "  text = wa_data.iloc[row][-1]\n",
        "  text = text.strip()\n",
        "  text = demoji.replace(text, '')\n",
        "  text = text.lower()\n",
        "  if 'good morning' in text:\n",
        "    hour_mins = wa_data.iloc[row][1]\n",
        "    sep = hour_mins.find(':')\n",
        "    time[0], time[1] = int(hour_mins[0 : sep]), int(hour_mins[sep+1:sep+3])\n",
        "    if 'PM' in hour_mins:\n",
        "      time[0] += 12\n",
        "    name = wa_data.iloc[row][2]\n",
        "    wakeup_member.setdefault(name, [0, 0, 0]) \n",
        "    wakeup_member[name][0] += time[0] #hours\n",
        "    wakeup_member[name][1] += time[1] #minutes   \n",
        "    wakeup_member[name][2] += 1       #count\n",
        "    wakeup_list[0] += time[0]\n",
        "    wakeup_list[1] += time[1]    \n",
        "    wakeup_list[2] += 1\n",
        "\n",
        "print('Group average wake up time: ' + str(wakeup_list[0]//wakeup_list[2]) + ':' + str(wakeup_list[1]//wakeup_list[2]) + '\\n')\n",
        "for name in wakeup_member: \n",
        "  print(name + \"'s average wake up time: \" + str(wakeup_member[name][0]//wakeup_member[name][2]) + ':' + str(wakeup_member[name][1]//wakeup_member[name][2]) + '\\n')"
      ],
      "execution_count": 153,
      "outputs": [
        {
          "output_type": "stream",
          "text": [
            "Group average wake up time: 8:31\n",
            "\n",
            "Member2's average wake up time: 8:29\n",
            "\n",
            "Member4's average wake up time: 8:30\n",
            "\n",
            "Member3's average wake up time: 9:30\n",
            "\n",
            "Member1's average wake up time: 8:34\n",
            "\n"
          ],
          "name": "stdout"
        }
      ]
    },
    {
      "cell_type": "markdown",
      "metadata": {
        "id": "1BNRGCOZTq8V",
        "colab_type": "text"
      },
      "source": [
        "###Word Frequncies"
      ]
    },
    {
      "cell_type": "code",
      "metadata": {
        "id": "JW-OfyIvjQyH",
        "colab_type": "code",
        "colab": {
          "base_uri": "https://localhost:8080/",
          "height": 255
        },
        "outputId": "a627a9f1-6b68-439c-d1d8-fe13cad99c62"
      },
      "source": [
        "word_member = {}\n",
        "word_list = []\n",
        "neg_texts = []\n",
        "ref_members = []\n",
        "del_sentences = ['<Media omitted>', 'This message was deleted', 'You deleted this message']\n",
        "\n",
        "\n",
        "for row in range(wa_data.shape[0]):\n",
        "  message = wa_data.iloc[row][3]\n",
        "  message = message.strip()\n",
        "  message = demoji.replace(message, '')\n",
        "  if message not in del_sentences and len(message) > 0:\n",
        "    for word in message.split():\n",
        "      if not regex.match('@[0-9]+', word):\n",
        "        #for @mobilenumber when referred to, the regex checks for the string to start with '@' and followed numbers   \n",
        "        name = wa_data.iloc[row][2]\n",
        "        word = word.lower()\n",
        "        word_member.setdefault(name, []).append(word)\n",
        "        word_list.append(word)\n",
        "      else:\n",
        "        ref_members.append(word)\n",
        "\n",
        "word_count = Counter(word_list)\n",
        "\n",
        "#frequncy of words used in the whole conversation\n",
        "#print('Words used in the whole conversation\\n', dict(word_count))\n",
        "\n",
        "#frequncy of words used by each member\n",
        "'''for name in word_member.keys():\n",
        "  print('\\n' + name + \"'s word frequency\\n\", dict(Counter(word_member[name])))'''\n",
        "\n",
        "#Most and least used words of the whole conversion\n",
        "maximum_word_whole, maximum_count_whole, _, _ = max_min_dict(dict(word_count))\n",
        "print(\"\\nThe whole conversation\\n\")\n",
        "print('Most used word:', maximum_word_whole, '| number of times used:', maximum_count_whole, '| total words used(excluding media, deleted texts and references):', len(word_count))\n",
        "#print('Least used word:', minimum_word_whole, '| number of times:', minimum_word_whole)\n",
        "\n",
        "##Most and least used words of individual members\n",
        "for name in word_member.keys():\n",
        "  maximum_word, maximum_count, _, _ = max_min_dict(dict(Counter(word_member[name])))\n",
        "  print('\\n' + str(name) + \"'s MOST used word: \" + str(maximum_word) + ' (' + '{:.2f}'.format((maximum_count / len(word_member[name])) * 100) + \"%)\")"
      ],
      "execution_count": 154,
      "outputs": [
        {
          "output_type": "stream",
          "text": [
            "\n",
            "The whole conversation\n",
            "\n",
            "Most used word: ha | number of times used: 986 | total words used(excluding media, deleted texts and references): 12293\n",
            "\n",
            "Member1's MOST used word: ha (2.55%)\n",
            "\n",
            "Member2's MOST used word: ok (1.95%)\n",
            "\n",
            "Member3's MOST used word: ga (1.43%)\n",
            "\n",
            "Member4's MOST used word: ha (1.85%)\n"
          ],
          "name": "stdout"
        }
      ]
    },
    {
      "cell_type": "code",
      "metadata": {
        "id": "ntvqAhHGYyI8",
        "colab_type": "code",
        "colab": {
          "base_uri": "https://localhost:8080/",
          "height": 1000
        },
        "outputId": "53674f22-e2ec-4452-e762-1300975161e3"
      },
      "source": [
        "for name in word_member.keys():\n",
        "  objects = []\n",
        "  performance = []\n",
        "  number_of_positions = 0\n",
        "  name_count = Counter(word_member[name])\n",
        "  for key, value in name_count.most_common():\n",
        "    objects.append(key)\n",
        "    performance.append(value)\n",
        "    number_of_positions += 1\n",
        "    if number_of_positions == 5:\n",
        "      objects = tuple(objects)\n",
        "      y_pos = np.arange(len(objects))\n",
        "      plt.barh(y_pos, performance, align='center', alpha=0.9, height = 0.4)\n",
        "      plt.yticks(y_pos, objects)\n",
        "      plt.xlabel('Number of times used')\n",
        "      plt.title(\"{}'s word usage\".format(name))\n",
        "      plt.show()\n",
        "      break"
      ],
      "execution_count": 155,
      "outputs": [
        {
          "output_type": "display_data",
          "data": {
            "image/png": "[encoded data removed]",
            "text/plain": [
              "<Figure size 432x288 with 1 Axes>"
            ]
          },
          "metadata": {
            "tags": [],
            "needs_background": "light"
          }
        },
        {
          "output_type": "display_data",
          "data": {
            "image/png": "[encoded data removed]",
            "text/plain": [
              "<Figure size 432x288 with 1 Axes>"
            ]
          },
          "metadata": {
            "tags": [],
            "needs_background": "light"
          }
        },
        {
          "output_type": "display_data",
          "data": {
            "image/png": "[encoded data removed]",
            "text/plain": [
              "<Figure size 432x288 with 1 Axes>"
            ]
          },
          "metadata": {
            "tags": [],
            "needs_background": "light"
          }
        },
        {
          "output_type": "display_data",
          "data": {
            "image/png": "[encoded data removed]",
            "text/plain": [
              "<Figure size 432x288 with 1 Axes>"
            ]
          },
          "metadata": {
            "tags": [],
            "needs_background": "light"
          }
        }
      ]
    },
    {
      "cell_type": "markdown",
      "metadata": {
        "id": "HU-0rHk5BnU1",
        "colab_type": "text"
      },
      "source": [
        "####Generating custom WordCloud of the chat\n",
        "######Source: https://www.datacamp.com/community/tutorials/wordcloud-python"
      ]
    },
    {
      "cell_type": "code",
      "metadata": {
        "id": "8CI1ArDgCmw3",
        "colab_type": "code",
        "colab": {}
      },
      "source": [
        "def transform_format(val):\n",
        "    if val == 0:\n",
        "        return 255\n",
        "    else:\n",
        "        return val"
      ],
      "execution_count": 156,
      "outputs": []
    },
    {
      "cell_type": "code",
      "metadata": {
        "id": "jvK_1iNZTWy_",
        "colab_type": "code",
        "colab": {
          "base_uri": "https://localhost:8080/",
          "height": 35
        },
        "outputId": "77cf1a71-c462-45b6-c28d-c36235e37eef"
      },
      "source": [
        "from wordcloud import WordCloud, STOPWORDS\n",
        "from PIL import Image\n",
        "\n",
        "final_text = ''\n",
        "final_text += \" \".join(word_list) + \" \"\n",
        "\n",
        "#image to be used for the mask\n",
        "mask = np.array(Image.open(\"whatsapp_logo.png\"))\n",
        "\n",
        "#if the mask image is 3 channel image\n",
        "if len(mask.shape) == 3:  \n",
        "  mask = mask[:,:,0]\n",
        "\n",
        "transformed_mask = np.ndarray((mask.shape[0],mask.shape[1]), np.int32)\n",
        "\n",
        "for i in range(len(mask)):\n",
        "    transformed_mask[i] = list(map(transform_format, mask[i]))\n",
        "'''\n",
        "wc = WordCloud(background_color=\"white\", max_words=1000, mask=transformed_wine_mask,\n",
        "               stopwords= STOPWORDS, contour_width=3, contour_color='firebrick')'''\n",
        "\n",
        "wc = WordCloud(background_color = \"white\", max_words = 3000, mask = transformed_mask,\n",
        "               stopwords= STOPWORDS)\n",
        "\n",
        "# Generate a wordcloud\n",
        "wc.generate(final_text)\n",
        "\n",
        "# the wordcloud generated is saved as file \n",
        "wc.to_file(\"word_cloud.png\")\n",
        "\n",
        "#neglected texts\n",
        "#print(set(neg_texts))"
      ],
      "execution_count": 157,
      "outputs": [
        {
          "output_type": "execute_result",
          "data": {
            "text/plain": [
              "<wordcloud.wordcloud.WordCloud at 0x7feb79c86240>"
            ]
          },
          "metadata": {
            "tags": []
          },
          "execution_count": 157
        }
      ]
    },
    {
      "cell_type": "markdown",
      "metadata": {
        "id": "dMTDbtMgEIfh",
        "colab_type": "text"
      },
      "source": [
        "###Well, emojies are a good way to end!"
      ]
    },
    {
      "cell_type": "code",
      "metadata": {
        "id": "mQWlvduqUzO6",
        "colab_type": "code",
        "colab": {
          "base_uri": "https://localhost:8080/",
          "height": 235
        },
        "outputId": "e2f8a4a8-5a8b-4e96-8655-f707d517b699"
      },
      "source": [
        "from emoji import UNICODE_EMOJI\n",
        "\n",
        "emoji_list = []\n",
        "emoji_member = {}\n",
        "\n",
        "for row in range(wa_data.shape[0]):\n",
        "  message = wa_data.iloc[row][-1]\n",
        "  message = message.strip()\n",
        "  if message not in del_sentences and len(message) > 0:\n",
        "    for char in message:\n",
        "      if char in UNICODE_EMOJI:\n",
        "        name = wa_data.iloc[row][2]\n",
        "        emoji_member.setdefault(name, []).append(char)\n",
        "        emoji_list.append(char)\n",
        "\n",
        "emoji_count = Counter(emoji_list)\n",
        "\n",
        "#emoji frequency of the whole conversation\n",
        "#print('Emojies\\n', dict(emoji_count))\n",
        "\n",
        "#number of each type of emoji used by a member\n",
        "'''for name in emoji_member.keys():\n",
        "  print('\\n' + name + \"'s emoji count\\n\", dict(Counter(emoji_member[name])))'''\n",
        "\n",
        "#Most and least used emojies of the whole conversion\n",
        "maximum_emoji_whole, maximum_count_whole, _, _ = max_min_dict(dict(emoji_count))\n",
        "print(\"\\nThe whole conversation\\n\")\n",
        "print('Most used emoji:', maximum_emoji_whole, '| number of times used:', maximum_count_whole, '| total emojies used:', len(emoji_list))\n",
        "#print('Least used emoji:', minimum_emoji_whole, '| number of times used:', minimum_count_whole)\n",
        "\n",
        "#most and least emojies used by members\n",
        "for name in emoji_member.keys():\n",
        "  maximum_emoji, maximum_count, _, _ = max_min_dict(dict(Counter(emoji_member[name])))\n",
        "  print('\\n' + str(name) + \"'s MOST used emoji: \" + str(maximum_emoji) + ' (' + '{:.2f}'.format((maximum_count / len(emoji_member[name])) * 100) + \"%)\")"
      ],
      "execution_count": 158,
      "outputs": [
        {
          "output_type": "stream",
          "text": [
            "\n",
            "The whole conversation\n",
            "\n",
            "Most used emoji: 😂 | number of times used: 9666 | total emojies used: 31067\n",
            "\n",
            "Member1's MOST used emoji: 😂 (31.53%)\n",
            "\n",
            "Member3's MOST used emoji: 🤣 (25.01%)\n",
            "\n",
            "Member4's MOST used emoji: 😂 (32.53%)\n",
            "\n",
            "Member2's MOST used emoji: 😂 (34.84%)\n"
          ],
          "name": "stdout"
        }
      ]
    },
    {
      "cell_type": "code",
      "metadata": {
        "id": "4QWinhYZfbK1",
        "colab_type": "code",
        "colab": {
          "base_uri": "https://localhost:8080/",
          "height": 1000
        },
        "outputId": "91dfc0cf-f60d-48b1-d08d-5985b7df1289"
      },
      "source": [
        "for name in emoji_member.keys():\n",
        "  objects = []\n",
        "  performance = []\n",
        "  number_of_positions = 0\n",
        "  name_count = Counter(emoji_member[name])\n",
        "  for key, value in name_count.most_common():\n",
        "    objects.append(key)\n",
        "    performance.append(value)\n",
        "    number_of_positions += 1\n",
        "    if number_of_positions == 5:\n",
        "      objects = tuple(objects)\n",
        "      y_pos = np.arange(len(objects))\n",
        "      plt.barh(y_pos, performance, align='center', alpha=0.9, height = 0.4)\n",
        "      plt.yticks(y_pos, objects)\n",
        "      plt.xlabel('Number of times used')\n",
        "      plt.title(\"{}'s emoji usage\".format(name))\n",
        "      plt.show()\n",
        "      break"
      ],
      "execution_count": 159,
      "outputs": [
        {
          "output_type": "stream",
          "text": [
            "/usr/local/lib/python3.6/dist-packages/matplotlib/backends/backend_agg.py:214: RuntimeWarning: Glyph 129315 missing from current font.\n",
            "  font.set_text(s, 0.0, flags=flags)\n",
            "/usr/local/lib/python3.6/dist-packages/matplotlib/backends/backend_agg.py:214: RuntimeWarning: Glyph 128580 missing from current font.\n",
            "  font.set_text(s, 0.0, flags=flags)\n",
            "/usr/local/lib/python3.6/dist-packages/matplotlib/backends/backend_agg.py:214: RuntimeWarning: Glyph 129300 missing from current font.\n",
            "  font.set_text(s, 0.0, flags=flags)\n",
            "/usr/local/lib/python3.6/dist-packages/matplotlib/backends/backend_agg.py:183: RuntimeWarning: Glyph 129315 missing from current font.\n",
            "  font.set_text(s, 0, flags=flags)\n",
            "/usr/local/lib/python3.6/dist-packages/matplotlib/backends/backend_agg.py:183: RuntimeWarning: Glyph 128580 missing from current font.\n",
            "  font.set_text(s, 0, flags=flags)\n",
            "/usr/local/lib/python3.6/dist-packages/matplotlib/backends/backend_agg.py:183: RuntimeWarning: Glyph 129300 missing from current font.\n",
            "  font.set_text(s, 0, flags=flags)\n"
          ],
          "name": "stderr"
        },
        {
          "output_type": "display_data",
          "data": {
            "image/png": "[encoded data removed]",
            "text/plain": [
              "<Figure size 432x288 with 1 Axes>"
            ]
          },
          "metadata": {
            "tags": [],
            "needs_background": "light"
          }
        },
        {
          "output_type": "stream",
          "text": [
            "/usr/local/lib/python3.6/dist-packages/matplotlib/backends/backend_agg.py:214: RuntimeWarning: Glyph 129325 missing from current font.\n",
            "  font.set_text(s, 0.0, flags=flags)\n",
            "/usr/local/lib/python3.6/dist-packages/matplotlib/backends/backend_agg.py:183: RuntimeWarning: Glyph 129325 missing from current font.\n",
            "  font.set_text(s, 0, flags=flags)\n"
          ],
          "name": "stderr"
        },
        {
          "output_type": "display_data",
          "data": {
            "image/png": "[encoded data removed]",
            "text/plain": [
              "<Figure size 432x288 with 1 Axes>"
            ]
          },
          "metadata": {
            "tags": [],
            "needs_background": "light"
          }
        },
        {
          "output_type": "stream",
          "text": [
            "/usr/local/lib/python3.6/dist-packages/matplotlib/backends/backend_agg.py:214: RuntimeWarning: Glyph 127995 missing from current font.\n",
            "  font.set_text(s, 0.0, flags=flags)\n",
            "/usr/local/lib/python3.6/dist-packages/matplotlib/backends/backend_agg.py:183: RuntimeWarning: Glyph 127995 missing from current font.\n",
            "  font.set_text(s, 0, flags=flags)\n"
          ],
          "name": "stderr"
        },
        {
          "output_type": "display_data",
          "data": {
            "image/png": "[encoded data removed]",
            "text/plain": [
              "<Figure size 432x288 with 1 Axes>"
            ]
          },
          "metadata": {
            "tags": [],
            "needs_background": "light"
          }
        },
        {
          "output_type": "display_data",
          "data": {
            "image/png": "[encoded data removed]",
            "text/plain": [
              "<Figure size 432x288 with 1 Axes>"
            ]
          },
          "metadata": {
            "tags": [],
            "needs_background": "light"
          }
        }
      ]
    },
    {
      "cell_type": "markdown",
      "metadata": {
        "id": "KnpG7exaVLD-",
        "colab_type": "text"
      },
      "source": [
        "###Many plotting libraries are available to express the stats in a great and interactive way.\n",
        "https://www.analyticsvidhya.com/blog/2020/03/6-data-visualization-python-libraries/\n",
        "\n",
        "Make sure to check out the article for very exicting plotting possibilities."
      ]
    }
  ]
}