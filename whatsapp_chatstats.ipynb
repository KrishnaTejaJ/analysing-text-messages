{
  "nbformat": 4,
  "nbformat_minor": 0,
  "metadata": {
    "colab": {
      "name": "whatsapp_chatstats_githubversion.ipynb",
      "provenance": [],
      "collapsed_sections": [],
      "toc_visible": true
    },
    "kernelspec": {
      "name": "python3",
      "display_name": "Python 3"
    }
  },
  "cells": [
    {
      "cell_type": "markdown",
      "metadata": {
        "id": "Vlp8g3HTIWc4",
        "colab_type": "text"
      },
      "source": [
        "# This entire script gives a detailed code walk-through on how to extract interesting insights from your own WhatsApp chat data."
      ]
    },
    {
      "cell_type": "markdown",
      "metadata": {
        "id": "Wp1qnve4I-cT",
        "colab_type": "text"
      },
      "source": [
        "Install demoji and emoji packages.\n",
        "The below code shows packages installation on **Google Colab**, if using any other notebook or editor then follow the respective package installation process."
      ]
    },
    {
      "cell_type": "code",
      "metadata": {
        "id": "9kVu2ozzceSZ",
        "colab_type": "code",
        "colab": {}
      },
      "source": [
        "!pip install demoji\n",
        "!pip install emoji\n",
        "!pip install plotly>=4.7.1\n",
        "!wget https://github.com/plotly/orca/releases/download/v1.2.1/orca-1.2.1-x86_64.AppImage -O /usr/local/bin/orca\n",
        "!chmod +x /usr/local/bin/orca\n",
        "!apt-get install xvfb libgtk2.0-0 libgconf-2-4"
      ],
      "execution_count": null,
      "outputs": []
    },
    {
      "cell_type": "markdown",
      "metadata": {
        "id": "B2QMDWVnPgOz",
        "colab_type": "text"
      },
      "source": [
        "The chat file after exporting is in txt format."
      ]
    },
    {
      "cell_type": "code",
      "metadata": {
        "id": "K-Vkn4mKoQyA",
        "colab_type": "code",
        "colab": {}
      },
      "source": [
        "raw_data = open(\"WhatsApp Chat with x.txt\")"
      ],
      "execution_count": null,
      "outputs": []
    },
    {
      "cell_type": "markdown",
      "metadata": {
        "id": "JCC7nBgpP5am",
        "colab_type": "text"
      },
      "source": [
        "###Create a csv file, which will later be used as a pandas dataframe."
      ]
    },
    {
      "cell_type": "code",
      "metadata": {
        "id": "OhPREVi96hlE",
        "colab_type": "code",
        "colab": {}
      },
      "source": [
        "import csv\n",
        "with open('chat.csv', mode='w') as csv_file:\n",
        "  csvwriter = csv.writer(csv_file)\n",
        "  csvwriter.writerow(['Date', 'Time', 'Name', 'Message'])"
      ],
      "execution_count": null,
      "outputs": []
    },
    {
      "cell_type": "markdown",
      "metadata": {
        "id": "5oxFKok5SeaT",
        "colab_type": "text"
      },
      "source": [
        "The below code creates a \"chat.csv\" file which cleans the raw_data.\n",
        "\n",
        "Regular expressions are used to validate the date and time of a text from raw_data.\n",
        "Two regular expressions are used as there are two types of date and time formats in different chats. (could be more, feel free to explore)\n",
        "\n",
        "String slicing is then used to seperate Date, Time, Name and Message sections and add them to the \"chat.csv\" file."
      ]
    },
    {
      "cell_type": "code",
      "metadata": {
        "id": "BAsF0m995S8b",
        "colab_type": "code",
        "colab": {}
      },
      "source": [
        "import regex\n",
        "line_num = 0\n",
        "\n",
        "for line in raw_data:\n",
        "  line_num += 1\n",
        "  if regex.match('[0-9]+/[0-9]+/[0-9]+, [0-9]+:[0-9]+ [AP]M - .*: .*', line) is not None \\\n",
        "    or regex.match('[0-9]+/[0-9]+/[0-9]+, [0-9]+:[0-9]+ - .*: .*', line) is not None:\n",
        "    sep = line.find('-')\n",
        "    timestamp = line[0:sep]\n",
        "    timestamp = timestamp.split(', ')\n",
        "    name_sep = line.find(':', sep) #asuming the name doesn't have ':'\n",
        "    name = line[sep+2:name_sep]\n",
        "    message = line[name_sep+1:]\n",
        "    with open('chat.csv', mode='a+', newline='') as csv_file:\n",
        "      csvwriter = csv.writer(csv_file)\n",
        "      csvwriter.writerow([timestamp[0], timestamp[1], name, message])"
      ],
      "execution_count": null,
      "outputs": []
    },
    {
      "cell_type": "markdown",
      "metadata": {
        "id": "8cBI0VM1WBEg",
        "colab_type": "text"
      },
      "source": [
        "###Convert the \"chat.csv\" to pandas dataframe."
      ]
    },
    {
      "cell_type": "code",
      "metadata": {
        "id": "xJ88OAGzV_a8",
        "colab_type": "code",
        "colab": {}
      },
      "source": [
        "import pandas as pd\n",
        "wa_data = pd.read_csv('chat.csv')"
      ],
      "execution_count": null,
      "outputs": []
    },
    {
      "cell_type": "markdown",
      "metadata": {
        "id": "3W-eCGeLWOUR",
        "colab_type": "text"
      },
      "source": [
        "(Optional)\n",
        "I have used the following piece of code to mask the actual names with dummy names."
      ]
    },
    {
      "cell_type": "code",
      "metadata": {
        "id": "UtUWBdwqEpl0",
        "colab_type": "code",
        "colab": {}
      },
      "source": [
        "#De-comment and run the following code to use alias names for the members \n",
        "'''new_names = []\n",
        "for i in range(len(wa_data.Name.unique())):\n",
        "  new_names.append('Member'+str(i+1))\n",
        "wa_data.replace(list(wa_data.Name.unique()), new_names, inplace = True)'''"
      ],
      "execution_count": null,
      "outputs": []
    },
    {
      "cell_type": "markdown",
      "metadata": {
        "id": "N34uEzq7WqKh",
        "colab_type": "text"
      },
      "source": [
        "##Let the fun begin!!!"
      ]
    },
    {
      "cell_type": "markdown",
      "metadata": {
        "id": "pgOx6rR8W1cV",
        "colab_type": "text"
      },
      "source": [
        "###Text counts of each person in the chat"
      ]
    },
    {
      "cell_type": "code",
      "metadata": {
        "id": "D3XpBjZhKTg4",
        "colab_type": "code",
        "colab": {
          "base_uri": "https://localhost:8080/",
          "height": 108
        },
        "outputId": "85740129-c8d8-48d0-b450-c3ea3ac9bf9b"
      },
      "source": [
        "wa_data['Name'].value_counts()"
      ],
      "execution_count": null,
      "outputs": [
        {
          "output_type": "execute_result",
          "data": {
            "text/plain": [
              "Manideep    17585\n",
              "Sami        11048\n",
              "Kiran        7750\n",
              "Krishna      3580\n",
              "Name: Name, dtype: int64"
            ]
          },
          "metadata": {
            "tags": []
          },
          "execution_count": 354
        }
      ]
    },
    {
      "cell_type": "code",
      "metadata": {
        "id": "_Mt8xPy5nZzG",
        "colab_type": "code",
        "colab": {}
      },
      "source": [
        "import numpy as np\n",
        "\n",
        "def max_min_dict(dnary):\n",
        "  minv = np.inf\n",
        "  maxv = 0\n",
        "  for key, value in dnary.items():\n",
        "    if value > maxv:\n",
        "      maxv, maxk = value, key\n",
        "    if value < minv:\n",
        "      minv, mink = value, key\n",
        "  return maxk, maxv, mink, minv"
      ],
      "execution_count": null,
      "outputs": []
    },
    {
      "cell_type": "markdown",
      "metadata": {
        "id": "QzKFS2Z7Xj44",
        "colab_type": "text"
      },
      "source": [
        "###Most active dates"
      ]
    },
    {
      "cell_type": "code",
      "metadata": {
        "id": "YRfRN_BFYCTz",
        "colab_type": "code",
        "colab": {
          "base_uri": "https://localhost:8080/",
          "height": 945
        },
        "outputId": "68ad7286-8f22-48d5-96f9-4b840ca9d3ab"
      },
      "source": [
        "print('Total Number of days of chat:', len(wa_data['Date'].unique()))\n",
        "print('Texts per day (decreasing order of number of texts)')\n",
        "wa_data['Date'].value_counts()"
      ],
      "execution_count": null,
      "outputs": [
        {
          "output_type": "stream",
          "text": [
            "Total Number of days of chat: 48\n",
            "Texts per day (decreasing order of number of texts)\n"
          ],
          "name": "stdout"
        },
        {
          "output_type": "execute_result",
          "data": {
            "text/plain": [
              "4/17/20    1668\n",
              "5/18/20    1593\n",
              "5/26/20    1570\n",
              "4/27/20    1437\n",
              "5/6/20     1386\n",
              "5/19/20    1361\n",
              "5/23/20    1354\n",
              "4/13/20    1299\n",
              "4/14/20    1255\n",
              "4/30/20    1250\n",
              "5/11/20    1247\n",
              "4/12/20    1193\n",
              "5/9/20     1114\n",
              "5/21/20    1051\n",
              "5/20/20    1035\n",
              "4/25/20    1016\n",
              "5/22/20     977\n",
              "4/16/20     928\n",
              "5/13/20     903\n",
              "5/7/20      902\n",
              "5/5/20      874\n",
              "4/28/20     817\n",
              "5/10/20     796\n",
              "5/17/20     771\n",
              "5/15/20     770\n",
              "5/25/20     758\n",
              "4/24/20     688\n",
              "5/4/20      658\n",
              "4/23/20     650\n",
              "5/16/20     648\n",
              "4/26/20     643\n",
              "5/14/20     641\n",
              "4/21/20     633\n",
              "5/28/20     626\n",
              "4/19/20     568\n",
              "5/8/20      559\n",
              "4/29/20     554\n",
              "5/24/20     529\n",
              "5/3/20      484\n",
              "4/15/20     479\n",
              "4/22/20     475\n",
              "5/12/20     472\n",
              "5/27/20     400\n",
              "4/18/20     295\n",
              "4/20/20     236\n",
              "5/1/20      218\n",
              "4/11/20     122\n",
              "5/2/20       60\n",
              "Name: Date, dtype: int64"
            ]
          },
          "metadata": {
            "tags": []
          },
          "execution_count": 356
        }
      ]
    },
    {
      "cell_type": "markdown",
      "metadata": {
        "id": "G0DIh1eJYnPh",
        "colab_type": "text"
      },
      "source": [
        "###Most active weekdays"
      ]
    },
    {
      "cell_type": "code",
      "metadata": {
        "id": "zce_m37ZK77H",
        "colab_type": "code",
        "colab": {
          "base_uri": "https://localhost:8080/",
          "height": 508
        },
        "outputId": "312c59c9-beaa-40ad-a31e-6fae7bcdef29"
      },
      "source": [
        "import datetime\n",
        "from collections import Counter\n",
        "import matplotlib.pyplot as plt\n",
        "\n",
        "weekday_list = []\n",
        "weekday_member = {}\n",
        "\n",
        "#extracting the count of texts on weekdays\n",
        "for row in range(wa_data.shape[0]):\n",
        "  month, day, year = wa_data.iloc[row][0].split('/')\n",
        "  total_date = datetime.datetime(int(year), int(month), int(day))\n",
        "  weekday = total_date.strftime(\"%A\")\n",
        "  name = wa_data.iloc[row][2]\n",
        "  weekday_member.setdefault(name, []).append(weekday)\n",
        "  weekday_list.append(weekday)\n",
        "weekday_count = Counter(weekday_list)\n",
        "\n",
        "#number of texts on weekdays of the whole conversation\n",
        "print('Weekdays texts count:\\n', dict(weekday_count))\n",
        "\n",
        "#number of texts of each member in weekdays\n",
        "'''for name in weekday_member.keys():\n",
        "  print('\\n' + name + \"'s weekdays texts count\\n\", dict(Counter(weekday_member[name])))'''\n",
        "\n",
        "#active and non-active weekdays of the whole conversion\n",
        "maximum_day_whole, maximum_count_whole, minimum_day_whole, minimum_count_whole = max_min_dict(dict(weekday_count))\n",
        "print(\"\\nThe whole conversation\\n\")\n",
        "print('Day with maximum texts:', maximum_day_whole, '| number of texts:', maximum_count_whole)\n",
        "print('Day with minimum texts:', minimum_day_whole, '| number of texts:', minimum_count_whole)\n",
        "\n",
        "#active and non-active weekdays of individual members\n",
        "for name in weekday_member.keys():\n",
        "  print('\\n' + name + \"'s weekdays texts\\n\")\n",
        "  maximum_day, maximum_count, minimum_day, minimum_count = max_min_dict(dict(Counter(weekday_member[name])))\n",
        "  print('Day with maximum texts:', maximum_day, '| number of texts:', maximum_count)\n",
        "  print('Day with minimum texts:', minimum_day, '| number of texts:', minimum_count)"
      ],
      "execution_count": null,
      "outputs": [
        {
          "output_type": "stream",
          "text": [
            "Weekdays texts count:\n",
            " {'Saturday': 4609, 'Sunday': 4984, 'Monday': 7228, 'Tuesday': 6982, 'Wednesday': 5232, 'Thursday': 6048, 'Friday': 4880}\n",
            "\n",
            "The whole conversation\n",
            "\n",
            "Day with maximum texts: Monday | number of texts: 7228\n",
            "Day with minimum texts: Saturday | number of texts: 4609\n",
            "\n",
            "Manideep's weekdays texts\n",
            "\n",
            "Day with maximum texts: Tuesday | number of texts: 3340\n",
            "Day with minimum texts: Friday | number of texts: 1951\n",
            "\n",
            "Krishna's weekdays texts\n",
            "\n",
            "Day with maximum texts: Monday | number of texts: 696\n",
            "Day with minimum texts: Wednesday | number of texts: 367\n",
            "\n",
            "Kiran's weekdays texts\n",
            "\n",
            "Day with maximum texts: Monday | number of texts: 1527\n",
            "Day with minimum texts: Saturday | number of texts: 861\n",
            "\n",
            "Sami's weekdays texts\n",
            "\n",
            "Day with maximum texts: Monday | number of texts: 1943\n",
            "Day with minimum texts: Saturday | number of texts: 1293\n"
          ],
          "name": "stdout"
        }
      ]
    },
    {
      "cell_type": "code",
      "metadata": {
        "id": "JhZHfmWFL38M",
        "colab_type": "code",
        "colab": {
          "base_uri": "https://localhost:8080/",
          "height": 252
        },
        "outputId": "49903b26-cdac-4a48-fe8e-f229e0463340"
      },
      "source": [
        "'''\n",
        "#plotting bar - graph 'Number of Texts vs Weekdays'\n",
        "plt.figure(figsize=(8,5))\n",
        "plt.bar(range(len(weekday_count)), weekday_count.values(), align='center')\n",
        "plt.xticks(range(len(weekday_count)), list(weekday_count.keys()))\n",
        "plt.title('Weekdays texts count', fontsize=15)\n",
        "plt.xlabel('Weekdays', fontsize=13)\n",
        "plt.ylabel('Number of Texts', fontsize=13)\n",
        "plt.show()\n",
        "#individual graphs for all the members can also be plotted in the similar way\n",
        "'''\n",
        "\n",
        "#pie-chart\n",
        "labels = weekday_count.keys()\n",
        "sizes = weekday_count.values()\n",
        "explode = []\n",
        "\n",
        "explode = [i*0 for i in range(len(sizes))] #len(sizes) is used to make sure to create those weekdays where conversations did happen \n",
        "explode_target = list(labels).index(maximum_day_whole)\n",
        "explode[explode_target] = 0.2\n",
        "explode = tuple(explode) #maximum_day pie is exploded\n",
        "\n",
        "fig1, ax1 = plt.subplots()\n",
        "ax1.pie(sizes, explode=explode, labels=labels, autopct='%1.1f%%', shadow=True, startangle=90)\n",
        "ax1.axis('equal')  # Equal aspect ratio ensures that pie is drawn as a circle.\n",
        "plt.show()"
      ],
      "execution_count": null,
      "outputs": [
        {
          "output_type": "display_data",
          "data": {
            "image/png": "[encoded data removed]",
            "text/plain": [
              "<Figure size 432x288 with 1 Axes>"
            ]
          },
          "metadata": {
            "tags": []
          }
        }
      ]
    },
    {
      "cell_type": "markdown",
      "metadata": {
        "id": "4vxkBcNNsuvd",
        "colab_type": "text"
      },
      "source": [
        "###Most active hour of the day"
      ]
    },
    {
      "cell_type": "code",
      "metadata": {
        "id": "rsAxl5TJLC9P",
        "colab_type": "code",
        "colab": {
          "base_uri": "https://localhost:8080/",
          "height": 528
        },
        "outputId": "1456b0eb-0bd2-40ed-a599-f48e0557051c"
      },
      "source": [
        "wa_data['Time'].value_counts()\n",
        "time = wa_data['Time'].values\n",
        "\n",
        "hour_list = []\n",
        "hour_member = {}\n",
        "\n",
        "#extracting the count of texts in a particular hour of the day, 24 hour format\n",
        "for row in range(wa_data.shape[0]):\n",
        "  hour = wa_data.iloc[row][1]\n",
        "  hour_num = int(hour[0 : hour.find(':')])\n",
        "  if 'PM' in hour:\n",
        "    hour_num += 12\n",
        "  name = wa_data.iloc[row][2]\n",
        "  hour_member.setdefault(name, []).append(hour_num)\n",
        "  hour_list.append(hour_num)\n",
        "\n",
        "hour_count = Counter(hour_list)\n",
        "\n",
        "#number of texts of whole conversation in an hour of the day\n",
        "print('Texts in a hour:\\n', dict(hour_count))\n",
        "\n",
        "#number of texts of each member in an hour of the day\n",
        "'''for name in hour_member.keys():\n",
        "  print('\\n' + name + \"'s hourly texts count\\n\", dict(Counter(hour_member[name])))'''\n",
        "\n",
        "#active and non-active hours of the whole conversion\n",
        "maximum_hour_whole, maximum_count_whole, minimum_hour_whole, minimum_count_whole = max_min_dict(dict(hour_count))\n",
        "print(\"\\nThe whole conversation\\n\")\n",
        "print('Hour of the day with maximum texts:', maximum_hour_whole, '| number of texts:', maximum_count_whole)\n",
        "print('Hour of the day with minimum texts:', minimum_hour_whole, '| number of texts:', minimum_count_whole)\n",
        "\n",
        "#active and non-active hours of all members\n",
        "for name in hour_member.keys():\n",
        "  print('\\n' + name + \"'s hourly texts\\n\")\n",
        "  maximum_hour, maximum_count, minimum_hour, minimum_count = max_min_dict(dict(Counter(hour_member[name])))\n",
        "  print('Hour of the day with maximum texts:', maximum_hour, '| number of texts:', maximum_count)\n",
        "  print('Hour of the day with minimum texts:', minimum_hour, '| number of texts:', minimum_count)"
      ],
      "execution_count": null,
      "outputs": [
        {
          "output_type": "stream",
          "text": [
            "Texts in a hour:\n",
            " {23: 3435, 12: 1090, 8: 491, 9: 2322, 10: 3340, 11: 3071, 24: 2680, 13: 1619, 14: 2343, 15: 2212, 17: 2513, 18: 2052, 19: 2956, 20: 1655, 21: 1825, 22: 3738, 16: 2224, 1: 182, 7: 207, 6: 8}\n",
            "\n",
            "The whole conversation\n",
            "\n",
            "Hour of the day with maximum texts: 22 | number of texts: 3738\n",
            "Hour of the day with minimum texts: 6 | number of texts: 8\n",
            "\n",
            "Manideep's hourly texts\n",
            "\n",
            "Hour of the day with maximum texts: 22 | number of texts: 1748\n",
            "Hour of the day with minimum texts: 6 | number of texts: 3\n",
            "\n",
            "Krishna's hourly texts\n",
            "\n",
            "Hour of the day with maximum texts: 10 | number of texts: 421\n",
            "Hour of the day with minimum texts: 6 | number of texts: 2\n",
            "\n",
            "Kiran's hourly texts\n",
            "\n",
            "Hour of the day with maximum texts: 23 | number of texts: 798\n",
            "Hour of the day with minimum texts: 6 | number of texts: 1\n",
            "\n",
            "Sami's hourly texts\n",
            "\n",
            "Hour of the day with maximum texts: 23 | number of texts: 1056\n",
            "Hour of the day with minimum texts: 6 | number of texts: 2\n"
          ],
          "name": "stdout"
        }
      ]
    },
    {
      "cell_type": "code",
      "metadata": {
        "id": "mjd19MQpMXhQ",
        "colab_type": "code",
        "colab": {
          "base_uri": "https://localhost:8080/",
          "height": 355
        },
        "outputId": "2227ddab-8b90-4059-8f94-0d58c732629a"
      },
      "source": [
        "'''#pie-chart\n",
        "labels = hour_count.keys()\n",
        "sizes = hour_count.values()\n",
        "\n",
        "explode = [i*0 for i in range(len(sizes))] #len(sizes) is used to make sure to create those hours of the day where conversations did happen\n",
        "explode_target = list(labels).index(maximum_hour_whole)\n",
        "explode[explode_target] = 0.2\n",
        "explode = tuple(explode) #maximum_day pie is exploded\n",
        "\n",
        "#fig1, ax1 = plt.subplots()\n",
        "fig1, ax1 = plt.subplots(figsize=(7, 7))\n",
        "ax1.pie(sizes, explode=explode, labels=labels, autopct='%1.0f%%', shadow=True, startangle=90)\n",
        "ax1.axis('equal')  # Equal aspect ratio ensures that pie is drawn as a circle.\n",
        "plt.show()'''\n",
        "\n",
        "\n",
        "#plotting graph 'Number of Texts vs Hour of the day'\n",
        "plt.figure(figsize=(8, 5))\n",
        "plt.bar(range(len(hour_count)), hour_count.values(), align='center')\n",
        "plt.xticks(range(len(hour_count)), list(hour_count.keys()))\n",
        "plt.title('Hourly texts count', fontsize=15)\n",
        "plt.xlabel('Hour of the day', fontsize=13)\n",
        "plt.ylabel('Number of Texts', fontsize=13)\n",
        "plt.show()\n",
        "#individual graphs for all the members can also be plotted in the similar way"
      ],
      "execution_count": null,
      "outputs": [
        {
          "output_type": "display_data",
          "data": {
            "image/png": "[encoded data removed]",
            "text/plain": [
              "<Figure size 576x360 with 1 Axes>"
            ]
          },
          "metadata": {
            "tags": [],
            "needs_background": "light"
          }
        }
      ]
    },
    {
      "cell_type": "code",
      "metadata": {
        "id": "O3MFnKhsLTAh",
        "colab_type": "code",
        "colab": {
          "base_uri": "https://localhost:8080/",
          "height": 90
        },
        "outputId": "ddefd2d5-c90f-4042-9126-023a8b28f008"
      },
      "source": [
        "import demoji\n",
        "demoji.download_codes()"
      ],
      "execution_count": null,
      "outputs": [
        {
          "output_type": "stream",
          "text": [
            "Downloading emoji data ...\n",
            "... OK (Got response in 0.36 seconds)\n",
            "Writing emoji data to /root/.demoji/codes.json ...\n",
            "... OK\n"
          ],
          "name": "stdout"
        }
      ]
    },
    {
      "cell_type": "markdown",
      "metadata": {
        "id": "AJRZbV5NxZ5h",
        "colab_type": "text"
      },
      "source": [
        "###(Optional)The Good Morning trend...\n",
        "**Do execute the following two cells only if your chat has \"good morning\" texts**\n",
        "* You can also use the following two cells of code as an inspiration to know more about particular key word chats.\n",
        "* De-comment the following two cells of code to make use of it."
      ]
    },
    {
      "cell_type": "code",
      "metadata": {
        "id": "IdrxQ8laDszX",
        "colab_type": "code",
        "colab": {
          "base_uri": "https://localhost:8080/",
          "height": 199
        },
        "outputId": "f3c4d825-3618-48cc-f5ed-b302744e5ff8"
      },
      "source": [
        "'''wakeup_list = [0, 0, 0] #[hours, mins, count]\n",
        "wakeup_member = {}\n",
        "\n",
        "for row in range(wa_data.shape[0]):\n",
        "  time = [0, 0, 0]\n",
        "  text = wa_data.iloc[row][-1]\n",
        "  text = text.strip()\n",
        "  text = demoji.replace(text, '')\n",
        "  text = text.lower()\n",
        "  if((('good morning' or 'good mrng' or 'gm ' or 'gud mrng') in text) or ('gm' == text)):\n",
        "    hour_mins = wa_data.iloc[row][1]\n",
        "    sep = hour_mins.find(':')\n",
        "    time[0], time[1] = int(hour_mins[0 : sep]), int(hour_mins[sep+1:sep+3])\n",
        "    if 'PM' in hour_mins:\n",
        "      time[0] += 12\n",
        "    name = wa_data.iloc[row][2]\n",
        "    wakeup_member.setdefault(name, [0, 0, 0]) \n",
        "    wakeup_member[name][0] += time[0] #hours\n",
        "    wakeup_member[name][1] += time[1] #minutes   \n",
        "    wakeup_member[name][2] += 1       #count\n",
        "    wakeup_list[0] += time[0]\n",
        "    wakeup_list[1] += time[1]    \n",
        "    wakeup_list[2] += 1\n",
        "\n",
        "print('Group average wake up time: ' + str(wakeup_list[0]//wakeup_list[2]) + ':' + str(wakeup_list[1]//wakeup_list[2]) + '\\n')\n",
        "for name in wakeup_member: \n",
        "  print(name + \"'s average wake up time: \" + str(wakeup_member[name][0]//wakeup_member[name][2]) + ':' + str(wakeup_member[name][1]//wakeup_member[name][2]) + '\\n')'''"
      ],
      "execution_count": null,
      "outputs": [
        {
          "output_type": "stream",
          "text": [
            "Group average wake up time: 8:31\n",
            "\n",
            "Krishna's average wake up time: 8:29\n",
            "\n",
            "Sami's average wake up time: 8:30\n",
            "\n",
            "Kiran's average wake up time: 9:30\n",
            "\n",
            "Manideep's average wake up time: 8:34\n",
            "\n"
          ],
          "name": "stdout"
        }
      ]
    },
    {
      "cell_type": "markdown",
      "metadata": {
        "id": "1BNRGCOZTq8V",
        "colab_type": "text"
      },
      "source": [
        "###Word Frequncies"
      ]
    },
    {
      "cell_type": "code",
      "metadata": {
        "id": "JW-OfyIvjQyH",
        "colab_type": "code",
        "colab": {
          "base_uri": "https://localhost:8080/",
          "height": 235
        },
        "outputId": "5fcfdb87-e3b6-4c14-c32a-fc8932aa7a0c"
      },
      "source": [
        "word_member = {}\n",
        "word_list = []\n",
        "neg_texts = []\n",
        "ref_members = []\n",
        "del_sentences = ['<Media omitted>', 'This message was deleted', 'You deleted this message']\n",
        "\n",
        "\n",
        "for row in range(wa_data.shape[0]):\n",
        "  message = wa_data.iloc[row][3]\n",
        "  message = message.strip()\n",
        "  message = demoji.replace(message, '')\n",
        "  if message not in del_sentences and len(message) > 0:\n",
        "    for word in message.split():\n",
        "      if not regex.match('@[0-9]+', word):\n",
        "        #for @mobilenumber when referred to, the regex checks for the string to start with '@' and followed numbers   \n",
        "        name = wa_data.iloc[row][2]\n",
        "        word = word.lower()\n",
        "        word_member.setdefault(name, []).append(word)\n",
        "        word_list.append(word)\n",
        "      else:\n",
        "        ref_members.append(word)\n",
        "\n",
        "word_count = Counter(word_list)\n",
        "\n",
        "#frequncy of words used in the whole conversation\n",
        "#print('Words used in the whole conversation\\n', dict(word_count))\n",
        "\n",
        "#frequncy of words used by each member\n",
        "'''for name in word_member.keys():\n",
        "  print('\\n' + name + \"'s word frequency\\n\", dict(Counter(word_member[name])))'''\n",
        "\n",
        "#Most and least used words of the whole conversion\n",
        "maximum_word_whole, maximum_count_whole, _, _ = max_min_dict(dict(word_count))\n",
        "print(\"\\nThe whole conversation\\n\")\n",
        "print('Most used word:', maximum_word_whole, '| number of times used:', maximum_count_whole, '| total words used(excluding media, deleted texts and references):', len(word_count))\n",
        "#print('Least used word:', minimum_word_whole, '| number of times:', minimum_word_whole)\n",
        "\n",
        "##Most and least used words of individual members\n",
        "for name in word_member.keys():\n",
        "  maximum_word, maximum_count, _, _ = max_min_dict(dict(Counter(word_member[name])))\n",
        "  print('\\n' + str(name) + \"'s MOST used word: \" + str(maximum_word) + ' (' + '{:.2f}'.format((maximum_count / len(word_member[name])) * 100) + \"%)\")"
      ],
      "execution_count": null,
      "outputs": [
        {
          "output_type": "stream",
          "text": [
            "\n",
            "The whole conversation\n",
            "\n",
            "Most used word: ha | number of times used: 986 | total words used(excluding media, deleted texts and references): 12293\n",
            "\n",
            "Manideep's MOST used word: ha (2.55%)\n",
            "\n",
            "Krishna's MOST used word: ok (1.95%)\n",
            "\n",
            "Kiran's MOST used word: ga (1.43%)\n",
            "\n",
            "Sami's MOST used word: ha (1.85%)\n"
          ],
          "name": "stdout"
        }
      ]
    },
    {
      "cell_type": "code",
      "metadata": {
        "id": "ntvqAhHGYyI8",
        "colab_type": "code",
        "colab": {
          "base_uri": "https://localhost:8080/",
          "height": 1000
        },
        "outputId": "5f0390db-c039-4d51-bd53-02d7dbf2da53"
      },
      "source": [
        "for name in word_member.keys():\n",
        "  objects = []\n",
        "  performance = []\n",
        "  name_count = Counter(word_member[name])\n",
        "  number_of_positions = 5 #top 5\n",
        "  if len(name_count) < number_of_positions:\n",
        "    number_of_positions = len(name_count)\n",
        "  for key, value in name_count.most_common():\n",
        "    objects.append(key)\n",
        "    performance.append(value)\n",
        "    number_of_positions -= 1\n",
        "    if number_of_positions == 0:\n",
        "      objects = tuple(objects)\n",
        "      y_pos = np.arange(len(objects))\n",
        "      plt.barh(y_pos, performance, align='center', alpha=0.9, height = 0.4)\n",
        "      plt.yticks(y_pos, objects)\n",
        "      plt.xlabel('Number of times used')\n",
        "      plt.title(\"{}'s word usage\".format(name))\n",
        "      plt.show()\n",
        "      break"
      ],
      "execution_count": null,
      "outputs": [
        {
          "output_type": "display_data",
          "data": {
            "image/png": "[encoded data removed]",
            "text/plain": [
              "<Figure size 432x288 with 1 Axes>"
            ]
          },
          "metadata": {
            "tags": [],
            "needs_background": "light"
          }
        },
        {
          "output_type": "display_data",
          "data": {
            "image/png": "[encoded data removed]",
            "text/plain": [
              "<Figure size 432x288 with 1 Axes>"
            ]
          },
          "metadata": {
            "tags": [],
            "needs_background": "light"
          }
        },
        {
          "output_type": "display_data",
          "data": {
            "image/png": "[encoded data removed]",
            "text/plain": [
              "<Figure size 432x288 with 1 Axes>"
            ]
          },
          "metadata": {
            "tags": [],
            "needs_background": "light"
          }
        },
        {
          "output_type": "display_data",
          "data": {
            "image/png": "[encoded data removed]",
            "text/plain": [
              "<Figure size 432x288 with 1 Axes>"
            ]
          },
          "metadata": {
            "tags": [],
            "needs_background": "light"
          }
        }
      ]
    },
    {
      "cell_type": "markdown",
      "metadata": {
        "id": "HU-0rHk5BnU1",
        "colab_type": "text"
      },
      "source": [
        "####Generating custom WordCloud of the chat\n",
        "######Source: https://www.datacamp.com/community/tutorials/wordcloud-python\n",
        "\n",
        "**The wordcloud will be saved as \"word_cloud.png\" in the current directory.**"
      ]
    },
    {
      "cell_type": "code",
      "metadata": {
        "id": "8CI1ArDgCmw3",
        "colab_type": "code",
        "colab": {}
      },
      "source": [
        "def transform_format(val):\n",
        "    if val == 0:\n",
        "        return 255\n",
        "    else:\n",
        "        return val"
      ],
      "execution_count": null,
      "outputs": []
    },
    {
      "cell_type": "code",
      "metadata": {
        "id": "jvK_1iNZTWy_",
        "colab_type": "code",
        "colab": {
          "base_uri": "https://localhost:8080/",
          "height": 35
        },
        "outputId": "47d8223b-c69a-4cdb-c370-2430571a7358"
      },
      "source": [
        "from wordcloud import WordCloud, STOPWORDS\n",
        "from PIL import Image\n",
        "\n",
        "final_text = ''\n",
        "final_text += \" \".join(word_list) + \" \"\n",
        "\n",
        "#image to be used for the mask\n",
        "mask = np.array(Image.open(\"https://i.ibb.co/4T6b2W6/whatsapp-logo.png\"))\n",
        "\n",
        "#if the mask image is 3 channel image\n",
        "if len(mask.shape) == 3:  \n",
        "  mask = mask[:,:,0]\n",
        "\n",
        "transformed_mask = np.ndarray((mask.shape[0],mask.shape[1]), np.int32)\n",
        "\n",
        "for i in range(len(mask)):\n",
        "    transformed_mask[i] = list(map(transform_format, mask[i]))\n",
        "'''\n",
        "wc = WordCloud(background_color=\"white\", max_words=1000, mask=transformed_wine_mask,\n",
        "               stopwords= STOPWORDS, contour_width=3, contour_color='firebrick')'''\n",
        "\n",
        "wc = WordCloud(background_color = \"white\", max_words = 3000, mask = transformed_mask,\n",
        "               stopwords= STOPWORDS)\n",
        "\n",
        "# Generate a wordcloud\n",
        "wc.generate(final_text)\n",
        "\n",
        "# the wordcloud generated is saved as file \n",
        "wc.to_file(\"word_cloud.png\")\n",
        "\n",
        "#neglected texts\n",
        "#print(set(neg_texts))"
      ],
      "execution_count": null,
      "outputs": [
        {
          "output_type": "execute_result",
          "data": {
            "text/plain": [
              "<wordcloud.wordcloud.WordCloud at 0x7feb7ce0a6a0>"
            ]
          },
          "metadata": {
            "tags": []
          },
          "execution_count": 366
        }
      ]
    },
    {
      "cell_type": "markdown",
      "metadata": {
        "id": "dMTDbtMgEIfh",
        "colab_type": "text"
      },
      "source": [
        "###Well, emojies are a good way to end!"
      ]
    },
    {
      "cell_type": "code",
      "metadata": {
        "id": "mQWlvduqUzO6",
        "colab_type": "code",
        "colab": {
          "base_uri": "https://localhost:8080/",
          "height": 235
        },
        "outputId": "2ba37808-b4ab-4cc0-f6ef-d12cdee54238"
      },
      "source": [
        "from emoji import UNICODE_EMOJI\n",
        "\n",
        "emoji_list = []\n",
        "emoji_member = {}\n",
        "\n",
        "for row in range(wa_data.shape[0]):\n",
        "  message = wa_data.iloc[row][-1]\n",
        "  message = message.strip()\n",
        "  if message not in del_sentences and len(message) > 0:\n",
        "    for char in message:\n",
        "      if char in UNICODE_EMOJI:\n",
        "        name = wa_data.iloc[row][2]\n",
        "        emoji_member.setdefault(name, []).append(char)\n",
        "        emoji_list.append(char)\n",
        "\n",
        "emoji_count = Counter(emoji_list)\n",
        "\n",
        "#emoji frequency of the whole conversation\n",
        "#print('Emojies\\n', dict(emoji_count))\n",
        "\n",
        "#number of each type of emoji used by a member\n",
        "'''for name in emoji_member.keys():\n",
        "  print('\\n' + name + \"'s emoji count\\n\", dict(Counter(emoji_member[name])))'''\n",
        "\n",
        "#Most and least used emojies of the whole conversion\n",
        "maximum_emoji_whole, maximum_count_whole, _, _ = max_min_dict(dict(emoji_count))\n",
        "print(\"\\nThe whole conversation\\n\")\n",
        "print('Most used emoji:', maximum_emoji_whole, '| number of times used:', maximum_count_whole, '| total emojies used:', len(emoji_list))\n",
        "#print('Least used emoji:', minimum_emoji_whole, '| number of times used:', minimum_count_whole)\n",
        "\n",
        "#most and least emojies used by members\n",
        "for name in emoji_member.keys():\n",
        "  maximum_emoji, maximum_count, _, _ = max_min_dict(dict(Counter(emoji_member[name])))\n",
        "  print('\\n' + str(name) + \"'s MOST used emoji: \" + str(maximum_emoji) + ' (' + '{:.2f}'.format((maximum_count / len(emoji_member[name])) * 100) + \"%)\")"
      ],
      "execution_count": null,
      "outputs": [
        {
          "output_type": "stream",
          "text": [
            "\n",
            "The whole conversation\n",
            "\n",
            "Most used emoji: 😂 | number of times used: 9666 | total emojies used: 31067\n",
            "\n",
            "Manideep's MOST used emoji: 😂 (31.53%)\n",
            "\n",
            "Kiran's MOST used emoji: 🤣 (25.01%)\n",
            "\n",
            "Sami's MOST used emoji: 😂 (32.53%)\n",
            "\n",
            "Krishna's MOST used emoji: 😂 (34.84%)\n"
          ],
          "name": "stdout"
        }
      ]
    },
    {
      "cell_type": "code",
      "metadata": {
        "id": "Ulj22REl5vvp",
        "colab_type": "code",
        "colab": {}
      },
      "source": [
        "import plotly.express as px #made use of plotly as it supports more emojies than matplotlib"
      ],
      "execution_count": null,
      "outputs": []
    },
    {
      "cell_type": "code",
      "metadata": {
        "id": "eF2IPpzvycAw",
        "colab_type": "code",
        "colab": {
          "base_uri": "https://localhost:8080/",
          "height": 1000
        },
        "outputId": "6e9f308c-987a-4d56-84e2-c9af553bc3a1"
      },
      "source": [
        "for name in emoji_member.keys():\n",
        "  y = []\n",
        "  x = []\n",
        "  name_count = Counter(emoji_member[name])\n",
        "  number_of_positions = 5 #top 5\n",
        "  if len(name_count) < number_of_positions:\n",
        "    number_of_positions = len(name_count)\n",
        "  for key, value in name_count.most_common():\n",
        "    y.append(key)\n",
        "    x.append(value)\n",
        "    number_of_positions -= 1\n",
        "    if number_of_positions == 0:\n",
        "      title = \"{}'s top 5 emojies used\".format(name)\n",
        "      fig = px.bar(\n",
        "            x = x,\n",
        "            y = y,\n",
        "            orientation='h')\n",
        "      fig.update_layout(\n",
        "      title = title,\n",
        "      xaxis_title=\"Number of times the emoji is used\",\n",
        "      yaxis_title=\"Emoji\")\n",
        "      fig.show(\"svg\")\n",
        "      break"
      ],
      "execution_count": null,
      "outputs": [
        {
          "output_type": "display_data",
          "data": {
            "image/svg+xml": "<svg class=\"main-svg\" xmlns=\"http://www.w3.org/2000/svg\" xmlns:xlink=\"http://www.w3.org/1999/xlink\" width=\"700\" height=\"450\" viewBox=\"0 0 700 450\"><rect x=\"0\" y=\"0\" width=\"700\" height=\"450\" style=\"fill: rgb(255, 255, 255); fill-opacity: 1;\"/><defs id=\"defs-e401fa\"><g class=\"clips\"><clipPath id=\"clipe401faxyplot\" class=\"plotclip\"><rect width=\"540\" height=\"310\"/></clipPath><clipPath class=\"axesclip\" id=\"clipe401fax\"><rect x=\"80\" y=\"0\" width=\"540\" height=\"450\"/></clipPath><clipPath class=\"axesclip\" id=\"clipe401fay\"><rect x=\"0\" y=\"60\" width=\"700\" height=\"310\"/></clipPath><clipPath class=\"axesclip\" id=\"clipe401faxy\"><rect x=\"80\" y=\"60\" width=\"540\" height=\"310\"/></clipPath></g><g class=\"gradients\"/></defs><g class=\"bglayer\"><rect class=\"bg\" x=\"80\" y=\"60\" width=\"540\" height=\"310\" style=\"fill: rgb(229, 236, 246); fill-opacity: 1; stroke-width: 0;\"/></g><g class=\"layer-below\"><g class=\"imagelayer\"/><g class=\"shapelayer\"/></g><g class=\"cartesianlayer\"><g class=\"subplot xy\"><g class=\"layer-subplot\"><g class=\"shapelayer\"/><g class=\"imagelayer\"/></g><g class=\"gridlayer\"><g class=\"x\"><path class=\"xgrid crisp\" transform=\"translate(201.36,0)\" d=\"M0,60v310\" style=\"stroke: rgb(255, 255, 255); stroke-opacity: 1; stroke-width: 1px;\"/><path class=\"xgrid crisp\" transform=\"translate(322.73,0)\" d=\"M0,60v310\" style=\"stroke: rgb(255, 255, 255); stroke-opacity: 1; stroke-width: 1px;\"/><path class=\"xgrid crisp\" transform=\"translate(444.09,0)\" d=\"M0,60v310\" style=\"stroke: rgb(255, 255, 255); stroke-opacity: 1; stroke-width: 1px;\"/><path class=\"xgrid crisp\" transform=\"translate(565.45,0)\" d=\"M0,60v310\" style=\"stroke: rgb(255, 255, 255); stroke-opacity: 1; stroke-width: 1px;\"/></g><g class=\"y\"/></g><g class=\"zerolinelayer\"><path class=\"xzl zl crisp\" transform=\"translate(80,0)\" d=\"M0,60v310\" style=\"stroke: rgb(255, 255, 255); stroke-opacity: 1; stroke-width: 2px;\"/></g><path class=\"xlines-below\"/><path class=\"ylines-below\"/><g class=\"overlines-below\"/><g class=\"xaxislayer-below\"/><g class=\"yaxislayer-below\"/><g class=\"overaxes-below\"/><g class=\"plot\" transform=\"translate(80, 60)\" clip-path=\"url('#clipe401faxyplot')\"><g class=\"barlayer mlayer\"><g class=\"trace bars\" style=\"opacity: 1;\"><g class=\"points\"><g class=\"point\"><path d=\"M0,303.8V254.2H513V303.8Z\" style=\"vector-effect: non-scaling-stroke; opacity: 1; stroke-width: 0.5px; fill: rgb(99, 110, 250); fill-opacity: 1; stroke: rgb(229, 236, 246); stroke-opacity: 1;\"/></g><g class=\"point\"><path d=\"M0,241.8V192.2H172.46V241.8Z\" style=\"vector-effect: non-scaling-stroke; opacity: 1; stroke-width: 0.5px; fill: rgb(99, 110, 250); fill-opacity: 1; stroke: rgb(229, 236, 246); stroke-opacity: 1;\"/></g><g class=\"point\"><path d=\"M0,179.8V130.2H130.71V179.8Z\" style=\"vector-effect: non-scaling-stroke; opacity: 1; stroke-width: 0.5px; fill: rgb(99, 110, 250); fill-opacity: 1; stroke: rgb(229, 236, 246); stroke-opacity: 1;\"/></g><g class=\"point\"><path d=\"M0,117.8V68.2H116.63V117.8Z\" style=\"vector-effect: non-scaling-stroke; opacity: 1; stroke-width: 0.5px; fill: rgb(99, 110, 250); fill-opacity: 1; stroke: rgb(229, 236, 246); stroke-opacity: 1;\"/></g><g class=\"point\"><path d=\"M0,55.8V6.2H82.41V55.8Z\" style=\"vector-effect: non-scaling-stroke; opacity: 1; stroke-width: 0.5px; fill: rgb(99, 110, 250); fill-opacity: 1; stroke: rgb(229, 236, 246); stroke-opacity: 1;\"/></g></g></g></g></g><g class=\"overplot\"/><path class=\"xlines-above crisp\" d=\"M0,0\" style=\"fill: none;\"/><path class=\"ylines-above crisp\" d=\"M0,0\" style=\"fill: none;\"/><g class=\"overlines-above\"/><g class=\"xaxislayer-above\"><g class=\"xtick\"><text text-anchor=\"middle\" x=\"0\" y=\"383\" transform=\"translate(80,0)\" style=\"font-family: 'Open Sans', verdana, arial, sans-serif; font-size: 12px; fill: rgb(42, 63, 95); fill-opacity: 1; white-space: pre;\">0</text></g><g class=\"xtick\"><text text-anchor=\"middle\" x=\"0\" y=\"383\" transform=\"translate(201.36,0)\" style=\"font-family: 'Open Sans', verdana, arial, sans-serif; font-size: 12px; fill: rgb(42, 63, 95); fill-opacity: 1; white-space: pre;\">1000</text></g><g class=\"xtick\"><text text-anchor=\"middle\" x=\"0\" y=\"383\" transform=\"translate(322.73,0)\" style=\"font-family: 'Open Sans', verdana, arial, sans-serif; font-size: 12px; fill: rgb(42, 63, 95); fill-opacity: 1; white-space: pre;\">2000</text></g><g class=\"xtick\"><text text-anchor=\"middle\" x=\"0\" y=\"383\" transform=\"translate(444.09,0)\" style=\"font-family: 'Open Sans', verdana, arial, sans-serif; font-size: 12px; fill: rgb(42, 63, 95); fill-opacity: 1; white-space: pre;\">3000</text></g><g class=\"xtick\"><text text-anchor=\"middle\" x=\"0\" y=\"383\" transform=\"translate(565.45,0)\" style=\"font-family: 'Open Sans', verdana, arial, sans-serif; font-size: 12px; fill: rgb(42, 63, 95); fill-opacity: 1; white-space: pre;\">4000</text></g></g><g class=\"yaxislayer-above\"><g class=\"ytick\"><text text-anchor=\"end\" x=\"79\" y=\"4.199999999999999\" transform=\"translate(0,339)\" style=\"font-family: 'Open Sans', verdana, arial, sans-serif; font-size: 12px; fill: rgb(42, 63, 95); fill-opacity: 1; white-space: pre;\">😂</text></g><g class=\"ytick\"><text text-anchor=\"end\" x=\"79\" y=\"4.199999999999999\" transform=\"translate(0,277)\" style=\"font-family: 'Open Sans', verdana, arial, sans-serif; font-size: 12px; fill: rgb(42, 63, 95); fill-opacity: 1; white-space: pre;\">🤣</text></g><g class=\"ytick\"><text text-anchor=\"end\" x=\"79\" y=\"4.199999999999999\" transform=\"translate(0,215)\" style=\"font-family: 'Open Sans', verdana, arial, sans-serif; font-size: 12px; fill: rgb(42, 63, 95); fill-opacity: 1; white-space: pre;\">🙄</text></g><g class=\"ytick\"><text text-anchor=\"end\" x=\"79\" y=\"4.199999999999999\" transform=\"translate(0,153)\" style=\"font-family: 'Open Sans', verdana, arial, sans-serif; font-size: 12px; fill: rgb(42, 63, 95); fill-opacity: 1; white-space: pre;\">😊</text></g><g class=\"ytick\"><text text-anchor=\"end\" x=\"79\" y=\"4.199999999999999\" transform=\"translate(0,91)\" style=\"font-family: 'Open Sans', verdana, arial, sans-serif; font-size: 12px; fill: rgb(42, 63, 95); fill-opacity: 1; white-space: pre;\">🤔</text></g></g><g class=\"overaxes-above\"/></g></g><g class=\"polarlayer\"/><g class=\"ternarylayer\"/><g class=\"geolayer\"/><g class=\"funnelarealayer\"/><g class=\"pielayer\"/><g class=\"treemaplayer\"/><g class=\"sunburstlayer\"/><g class=\"glimages\"/><defs id=\"topdefs-e401fa\"><g class=\"clips\"/></defs><g class=\"layer-above\"><g class=\"imagelayer\"/><g class=\"shapelayer\"/></g><g class=\"infolayer\"><g class=\"g-gtitle\"><text class=\"gtitle\" x=\"35\" y=\"30\" text-anchor=\"start\" dy=\"0em\" style=\"font-family: 'Open Sans', verdana, arial, sans-serif; font-size: 17px; fill: rgb(42, 63, 95); opacity: 1; font-weight: normal; white-space: pre;\">Manideep's top 5 emojies used</text></g><g class=\"g-xtitle\"><text class=\"xtitle\" x=\"350\" y=\"410.8\" text-anchor=\"middle\" style=\"font-family: 'Open Sans', verdana, arial, sans-serif; font-size: 14px; fill: rgb(42, 63, 95); opacity: 1; font-weight: normal; white-space: pre;\">Number of times the emoji is used</text></g><g class=\"g-ytitle\"><text class=\"ytitle\" transform=\"rotate(-90,46.996875,215)\" x=\"46.996875\" y=\"215\" text-anchor=\"middle\" style=\"font-family: 'Open Sans', verdana, arial, sans-serif; font-size: 14px; fill: rgb(42, 63, 95); opacity: 1; font-weight: normal; white-space: pre;\">Emoji</text></g></g></svg>"
          },
          "metadata": {
            "tags": []
          }
        },
        {
          "output_type": "display_data",
          "data": {
            "image/svg+xml": "<svg class=\"main-svg\" xmlns=\"http://www.w3.org/2000/svg\" xmlns:xlink=\"http://www.w3.org/1999/xlink\" width=\"700\" height=\"450\" viewBox=\"0 0 700 450\"><rect x=\"0\" y=\"0\" width=\"700\" height=\"450\" style=\"fill: rgb(255, 255, 255); fill-opacity: 1;\"/><defs id=\"defs-eaee18\"><g class=\"clips\"><clipPath id=\"clipeaee18xyplot\" class=\"plotclip\"><rect width=\"540\" height=\"310\"/></clipPath><clipPath class=\"axesclip\" id=\"clipeaee18x\"><rect x=\"80\" y=\"0\" width=\"540\" height=\"450\"/></clipPath><clipPath class=\"axesclip\" id=\"clipeaee18y\"><rect x=\"0\" y=\"60\" width=\"700\" height=\"310\"/></clipPath><clipPath class=\"axesclip\" id=\"clipeaee18xy\"><rect x=\"80\" y=\"60\" width=\"540\" height=\"310\"/></clipPath></g><g class=\"gradients\"/></defs><g class=\"bglayer\"><rect class=\"bg\" x=\"80\" y=\"60\" width=\"540\" height=\"310\" style=\"fill: rgb(229, 236, 246); fill-opacity: 1; stroke-width: 0;\"/></g><g class=\"layer-below\"><g class=\"imagelayer\"/><g class=\"shapelayer\"/></g><g class=\"cartesianlayer\"><g class=\"subplot xy\"><g class=\"layer-subplot\"><g class=\"shapelayer\"/><g class=\"imagelayer\"/></g><g class=\"gridlayer\"><g class=\"x\"><path class=\"xgrid crisp\" transform=\"translate(171.69,0)\" d=\"M0,60v310\" style=\"stroke: rgb(255, 255, 255); stroke-opacity: 1; stroke-width: 1px;\"/><path class=\"xgrid crisp\" transform=\"translate(263.38,0)\" d=\"M0,60v310\" style=\"stroke: rgb(255, 255, 255); stroke-opacity: 1; stroke-width: 1px;\"/><path class=\"xgrid crisp\" transform=\"translate(355.07,0)\" d=\"M0,60v310\" style=\"stroke: rgb(255, 255, 255); stroke-opacity: 1; stroke-width: 1px;\"/><path class=\"xgrid crisp\" transform=\"translate(446.76,0)\" d=\"M0,60v310\" style=\"stroke: rgb(255, 255, 255); stroke-opacity: 1; stroke-width: 1px;\"/><path class=\"xgrid crisp\" transform=\"translate(538.45,0)\" d=\"M0,60v310\" style=\"stroke: rgb(255, 255, 255); stroke-opacity: 1; stroke-width: 1px;\"/></g><g class=\"y\"/></g><g class=\"zerolinelayer\"><path class=\"xzl zl crisp\" transform=\"translate(80,0)\" d=\"M0,60v310\" style=\"stroke: rgb(255, 255, 255); stroke-opacity: 1; stroke-width: 2px;\"/></g><path class=\"xlines-below\"/><path class=\"ylines-below\"/><g class=\"overlines-below\"/><g class=\"xaxislayer-below\"/><g class=\"yaxislayer-below\"/><g class=\"overaxes-below\"/><g class=\"plot\" transform=\"translate(80, 60)\" clip-path=\"url('#clipeaee18xyplot')\"><g class=\"barlayer mlayer\"><g class=\"trace bars\" style=\"opacity: 1;\"><g class=\"points\"><g class=\"point\"><path d=\"M0,303.8V254.2H513V303.8Z\" style=\"vector-effect: non-scaling-stroke; opacity: 1; stroke-width: 0.5px; fill: rgb(99, 110, 250); fill-opacity: 1; stroke: rgb(229, 236, 246); stroke-opacity: 1;\"/></g><g class=\"point\"><path d=\"M0,241.8V192.2H500.16V241.8Z\" style=\"vector-effect: non-scaling-stroke; opacity: 1; stroke-width: 0.5px; fill: rgb(99, 110, 250); fill-opacity: 1; stroke: rgb(229, 236, 246); stroke-opacity: 1;\"/></g><g class=\"point\"><path d=\"M0,179.8V130.2H139.83V179.8Z\" style=\"vector-effect: non-scaling-stroke; opacity: 1; stroke-width: 0.5px; fill: rgb(99, 110, 250); fill-opacity: 1; stroke: rgb(229, 236, 246); stroke-opacity: 1;\"/></g><g class=\"point\"><path d=\"M0,117.8V68.2H134.32V117.8Z\" style=\"vector-effect: non-scaling-stroke; opacity: 1; stroke-width: 0.5px; fill: rgb(99, 110, 250); fill-opacity: 1; stroke: rgb(229, 236, 246); stroke-opacity: 1;\"/></g><g class=\"point\"><path d=\"M0,55.8V6.2H97.65V55.8Z\" style=\"vector-effect: non-scaling-stroke; opacity: 1; stroke-width: 0.5px; fill: rgb(99, 110, 250); fill-opacity: 1; stroke: rgb(229, 236, 246); stroke-opacity: 1;\"/></g></g></g></g></g><g class=\"overplot\"/><path class=\"xlines-above crisp\" d=\"M0,0\" style=\"fill: none;\"/><path class=\"ylines-above crisp\" d=\"M0,0\" style=\"fill: none;\"/><g class=\"overlines-above\"/><g class=\"xaxislayer-above\"><g class=\"xtick\"><text text-anchor=\"middle\" x=\"0\" y=\"383\" transform=\"translate(80,0)\" style=\"font-family: 'Open Sans', verdana, arial, sans-serif; font-size: 12px; fill: rgb(42, 63, 95); fill-opacity: 1; white-space: pre;\">0</text></g><g class=\"xtick\"><text text-anchor=\"middle\" x=\"0\" y=\"383\" transform=\"translate(171.69,0)\" style=\"font-family: 'Open Sans', verdana, arial, sans-serif; font-size: 12px; fill: rgb(42, 63, 95); fill-opacity: 1; white-space: pre;\">200</text></g><g class=\"xtick\"><text text-anchor=\"middle\" x=\"0\" y=\"383\" transform=\"translate(263.38,0)\" style=\"font-family: 'Open Sans', verdana, arial, sans-serif; font-size: 12px; fill: rgb(42, 63, 95); fill-opacity: 1; white-space: pre;\">400</text></g><g class=\"xtick\"><text text-anchor=\"middle\" x=\"0\" y=\"383\" transform=\"translate(355.07,0)\" style=\"font-family: 'Open Sans', verdana, arial, sans-serif; font-size: 12px; fill: rgb(42, 63, 95); fill-opacity: 1; white-space: pre;\">600</text></g><g class=\"xtick\"><text text-anchor=\"middle\" x=\"0\" y=\"383\" transform=\"translate(446.76,0)\" style=\"font-family: 'Open Sans', verdana, arial, sans-serif; font-size: 12px; fill: rgb(42, 63, 95); fill-opacity: 1; white-space: pre;\">800</text></g><g class=\"xtick\"><text text-anchor=\"middle\" x=\"0\" y=\"383\" transform=\"translate(538.45,0)\" style=\"font-family: 'Open Sans', verdana, arial, sans-serif; font-size: 12px; fill: rgb(42, 63, 95); fill-opacity: 1; white-space: pre;\">1000</text></g></g><g class=\"yaxislayer-above\"><g class=\"ytick\"><text text-anchor=\"end\" x=\"79\" y=\"4.199999999999999\" transform=\"translate(0,339)\" style=\"font-family: 'Open Sans', verdana, arial, sans-serif; font-size: 12px; fill: rgb(42, 63, 95); fill-opacity: 1; white-space: pre;\">🤣</text></g><g class=\"ytick\"><text text-anchor=\"end\" x=\"79\" y=\"4.199999999999999\" transform=\"translate(0,277)\" style=\"font-family: 'Open Sans', verdana, arial, sans-serif; font-size: 12px; fill: rgb(42, 63, 95); fill-opacity: 1; white-space: pre;\">😂</text></g><g class=\"ytick\"><text text-anchor=\"end\" x=\"79\" y=\"4.199999999999999\" transform=\"translate(0,215)\" style=\"font-family: 'Open Sans', verdana, arial, sans-serif; font-size: 12px; fill: rgb(42, 63, 95); fill-opacity: 1; white-space: pre;\">🤭</text></g><g class=\"ytick\"><text text-anchor=\"end\" x=\"79\" y=\"4.199999999999999\" transform=\"translate(0,153)\" style=\"font-family: 'Open Sans', verdana, arial, sans-serif; font-size: 12px; fill: rgb(42, 63, 95); fill-opacity: 1; white-space: pre;\">♂</text></g><g class=\"ytick\"><text text-anchor=\"end\" x=\"79\" y=\"4.199999999999999\" transform=\"translate(0,91)\" style=\"font-family: 'Open Sans', verdana, arial, sans-serif; font-size: 12px; fill: rgb(42, 63, 95); fill-opacity: 1; white-space: pre;\">🙄</text></g></g><g class=\"overaxes-above\"/></g></g><g class=\"polarlayer\"/><g class=\"ternarylayer\"/><g class=\"geolayer\"/><g class=\"funnelarealayer\"/><g class=\"pielayer\"/><g class=\"treemaplayer\"/><g class=\"sunburstlayer\"/><g class=\"glimages\"/><defs id=\"topdefs-eaee18\"><g class=\"clips\"/></defs><g class=\"layer-above\"><g class=\"imagelayer\"/><g class=\"shapelayer\"/></g><g class=\"infolayer\"><g class=\"g-gtitle\"><text class=\"gtitle\" x=\"35\" y=\"30\" text-anchor=\"start\" dy=\"0em\" style=\"font-family: 'Open Sans', verdana, arial, sans-serif; font-size: 17px; fill: rgb(42, 63, 95); opacity: 1; font-weight: normal; white-space: pre;\">Kiran's top 5 emojies used</text></g><g class=\"g-xtitle\"><text class=\"xtitle\" x=\"350\" y=\"410.8\" text-anchor=\"middle\" style=\"font-family: 'Open Sans', verdana, arial, sans-serif; font-size: 14px; fill: rgb(42, 63, 95); opacity: 1; font-weight: normal; white-space: pre;\">Number of times the emoji is used</text></g><g class=\"g-ytitle\"><text class=\"ytitle\" transform=\"rotate(-90,45.2,215)\" x=\"45.2\" y=\"215\" text-anchor=\"middle\" style=\"font-family: 'Open Sans', verdana, arial, sans-serif; font-size: 14px; fill: rgb(42, 63, 95); opacity: 1; font-weight: normal; white-space: pre;\">Emoji</text></g></g></svg>"
          },
          "metadata": {
            "tags": []
          }
        },
        {
          "output_type": "display_data",
          "data": {
            "image/svg+xml": "<svg class=\"main-svg\" xmlns=\"http://www.w3.org/2000/svg\" xmlns:xlink=\"http://www.w3.org/1999/xlink\" width=\"700\" height=\"450\" viewBox=\"0 0 700 450\"><rect x=\"0\" y=\"0\" width=\"700\" height=\"450\" style=\"fill: rgb(255, 255, 255); fill-opacity: 1;\"/><defs id=\"defs-40c007\"><g class=\"clips\"><clipPath id=\"clip40c007xyplot\" class=\"plotclip\"><rect width=\"540\" height=\"310\"/></clipPath><clipPath class=\"axesclip\" id=\"clip40c007x\"><rect x=\"80\" y=\"0\" width=\"540\" height=\"450\"/></clipPath><clipPath class=\"axesclip\" id=\"clip40c007y\"><rect x=\"0\" y=\"60\" width=\"700\" height=\"310\"/></clipPath><clipPath class=\"axesclip\" id=\"clip40c007xy\"><rect x=\"80\" y=\"60\" width=\"540\" height=\"310\"/></clipPath></g><g class=\"gradients\"/></defs><g class=\"bglayer\"><rect class=\"bg\" x=\"80\" y=\"60\" width=\"540\" height=\"310\" style=\"fill: rgb(229, 236, 246); fill-opacity: 1; stroke-width: 0;\"/></g><g class=\"layer-below\"><g class=\"imagelayer\"/><g class=\"shapelayer\"/></g><g class=\"cartesianlayer\"><g class=\"subplot xy\"><g class=\"layer-subplot\"><g class=\"shapelayer\"/><g class=\"imagelayer\"/></g><g class=\"gridlayer\"><g class=\"x\"><path class=\"xgrid crisp\" transform=\"translate(153.98000000000002,0)\" d=\"M0,60v310\" style=\"stroke: rgb(255, 255, 255); stroke-opacity: 1; stroke-width: 1px;\"/><path class=\"xgrid crisp\" transform=\"translate(227.97,0)\" d=\"M0,60v310\" style=\"stroke: rgb(255, 255, 255); stroke-opacity: 1; stroke-width: 1px;\"/><path class=\"xgrid crisp\" transform=\"translate(301.95,0)\" d=\"M0,60v310\" style=\"stroke: rgb(255, 255, 255); stroke-opacity: 1; stroke-width: 1px;\"/><path class=\"xgrid crisp\" transform=\"translate(375.93,0)\" d=\"M0,60v310\" style=\"stroke: rgb(255, 255, 255); stroke-opacity: 1; stroke-width: 1px;\"/><path class=\"xgrid crisp\" transform=\"translate(449.92,0)\" d=\"M0,60v310\" style=\"stroke: rgb(255, 255, 255); stroke-opacity: 1; stroke-width: 1px;\"/><path class=\"xgrid crisp\" transform=\"translate(523.9,0)\" d=\"M0,60v310\" style=\"stroke: rgb(255, 255, 255); stroke-opacity: 1; stroke-width: 1px;\"/><path class=\"xgrid crisp\" transform=\"translate(597.88,0)\" d=\"M0,60v310\" style=\"stroke: rgb(255, 255, 255); stroke-opacity: 1; stroke-width: 1px;\"/></g><g class=\"y\"/></g><g class=\"zerolinelayer\"><path class=\"xzl zl crisp\" transform=\"translate(80,0)\" d=\"M0,60v310\" style=\"stroke: rgb(255, 255, 255); stroke-opacity: 1; stroke-width: 2px;\"/></g><path class=\"xlines-below\"/><path class=\"ylines-below\"/><g class=\"overlines-below\"/><g class=\"xaxislayer-below\"/><g class=\"yaxislayer-below\"/><g class=\"overaxes-below\"/><g class=\"plot\" transform=\"translate(80, 60)\" clip-path=\"url('#clip40c007xyplot')\"><g class=\"barlayer mlayer\"><g class=\"trace bars\" style=\"opacity: 1;\"><g class=\"points\"><g class=\"point\"><path d=\"M0,303.8V254.2H513V303.8Z\" style=\"vector-effect: non-scaling-stroke; opacity: 1; stroke-width: 0.5px; fill: rgb(99, 110, 250); fill-opacity: 1; stroke: rgb(229, 236, 246); stroke-opacity: 1;\"/></g><g class=\"point\"><path d=\"M0,241.8V192.2H235.86V241.8Z\" style=\"vector-effect: non-scaling-stroke; opacity: 1; stroke-width: 0.5px; fill: rgb(99, 110, 250); fill-opacity: 1; stroke: rgb(229, 236, 246); stroke-opacity: 1;\"/></g><g class=\"point\"><path d=\"M0,179.8V130.2H109.79V179.8Z\" style=\"vector-effect: non-scaling-stroke; opacity: 1; stroke-width: 0.5px; fill: rgb(99, 110, 250); fill-opacity: 1; stroke: rgb(229, 236, 246); stroke-opacity: 1;\"/></g><g class=\"point\"><path d=\"M0,117.8V68.2H68.51V117.8Z\" style=\"vector-effect: non-scaling-stroke; opacity: 1; stroke-width: 0.5px; fill: rgb(99, 110, 250); fill-opacity: 1; stroke: rgb(229, 236, 246); stroke-opacity: 1;\"/></g><g class=\"point\"><path d=\"M0,55.8V6.2H61.85V55.8Z\" style=\"vector-effect: non-scaling-stroke; opacity: 1; stroke-width: 0.5px; fill: rgb(99, 110, 250); fill-opacity: 1; stroke: rgb(229, 236, 246); stroke-opacity: 1;\"/></g></g></g></g></g><g class=\"overplot\"/><path class=\"xlines-above crisp\" d=\"M0,0\" style=\"fill: none;\"/><path class=\"ylines-above crisp\" d=\"M0,0\" style=\"fill: none;\"/><g class=\"overlines-above\"/><g class=\"xaxislayer-above\"><g class=\"xtick\"><text text-anchor=\"middle\" x=\"0\" y=\"383\" transform=\"translate(80,0)\" style=\"font-family: 'Open Sans', verdana, arial, sans-serif; font-size: 12px; fill: rgb(42, 63, 95); fill-opacity: 1; white-space: pre;\">0</text></g><g class=\"xtick\"><text text-anchor=\"middle\" x=\"0\" y=\"383\" transform=\"translate(153.98000000000002,0)\" style=\"font-family: 'Open Sans', verdana, arial, sans-serif; font-size: 12px; fill: rgb(42, 63, 95); fill-opacity: 1; white-space: pre;\">500</text></g><g class=\"xtick\"><text text-anchor=\"middle\" x=\"0\" y=\"383\" transform=\"translate(227.97,0)\" style=\"font-family: 'Open Sans', verdana, arial, sans-serif; font-size: 12px; fill: rgb(42, 63, 95); fill-opacity: 1; white-space: pre;\">1000</text></g><g class=\"xtick\"><text text-anchor=\"middle\" x=\"0\" y=\"383\" transform=\"translate(301.95,0)\" style=\"font-family: 'Open Sans', verdana, arial, sans-serif; font-size: 12px; fill: rgb(42, 63, 95); fill-opacity: 1; white-space: pre;\">1500</text></g><g class=\"xtick\"><text text-anchor=\"middle\" x=\"0\" y=\"383\" transform=\"translate(375.93,0)\" style=\"font-family: 'Open Sans', verdana, arial, sans-serif; font-size: 12px; fill: rgb(42, 63, 95); fill-opacity: 1; white-space: pre;\">2000</text></g><g class=\"xtick\"><text text-anchor=\"middle\" x=\"0\" y=\"383\" transform=\"translate(449.92,0)\" style=\"font-family: 'Open Sans', verdana, arial, sans-serif; font-size: 12px; fill: rgb(42, 63, 95); fill-opacity: 1; white-space: pre;\">2500</text></g><g class=\"xtick\"><text text-anchor=\"middle\" x=\"0\" y=\"383\" transform=\"translate(523.9,0)\" style=\"font-family: 'Open Sans', verdana, arial, sans-serif; font-size: 12px; fill: rgb(42, 63, 95); fill-opacity: 1; white-space: pre;\">3000</text></g><g class=\"xtick\"><text text-anchor=\"middle\" x=\"0\" y=\"383\" transform=\"translate(597.88,0)\" style=\"font-family: 'Open Sans', verdana, arial, sans-serif; font-size: 12px; fill: rgb(42, 63, 95); fill-opacity: 1; white-space: pre;\">3500</text></g></g><g class=\"yaxislayer-above\"><g class=\"ytick\"><text text-anchor=\"end\" x=\"79\" y=\"4.199999999999999\" transform=\"translate(0,339)\" style=\"font-family: 'Open Sans', verdana, arial, sans-serif; font-size: 12px; fill: rgb(42, 63, 95); fill-opacity: 1; white-space: pre;\">😂</text></g><g class=\"ytick\"><text text-anchor=\"end\" x=\"79\" y=\"4.199999999999999\" transform=\"translate(0,277)\" style=\"font-family: 'Open Sans', verdana, arial, sans-serif; font-size: 12px; fill: rgb(42, 63, 95); fill-opacity: 1; white-space: pre;\">🤣</text></g><g class=\"ytick\"><text text-anchor=\"end\" x=\"79\" y=\"4.199999999999999\" transform=\"translate(0,215)\" style=\"font-family: 'Open Sans', verdana, arial, sans-serif; font-size: 12px; fill: rgb(42, 63, 95); fill-opacity: 1; white-space: pre;\">🏻</text></g><g class=\"ytick\"><text text-anchor=\"end\" x=\"79\" y=\"4.199999999999999\" transform=\"translate(0,153)\" style=\"font-family: 'Open Sans', verdana, arial, sans-serif; font-size: 12px; fill: rgb(42, 63, 95); fill-opacity: 1; white-space: pre;\">♀</text></g><g class=\"ytick\"><text text-anchor=\"end\" x=\"79\" y=\"4.199999999999999\" transform=\"translate(0,91)\" style=\"font-family: 'Open Sans', verdana, arial, sans-serif; font-size: 12px; fill: rgb(42, 63, 95); fill-opacity: 1; white-space: pre;\">🤭</text></g></g><g class=\"overaxes-above\"/></g></g><g class=\"polarlayer\"/><g class=\"ternarylayer\"/><g class=\"geolayer\"/><g class=\"funnelarealayer\"/><g class=\"pielayer\"/><g class=\"treemaplayer\"/><g class=\"sunburstlayer\"/><g class=\"glimages\"/><defs id=\"topdefs-40c007\"><g class=\"clips\"/></defs><g class=\"layer-above\"><g class=\"imagelayer\"/><g class=\"shapelayer\"/></g><g class=\"infolayer\"><g class=\"g-gtitle\"><text class=\"gtitle\" x=\"35\" y=\"30\" text-anchor=\"start\" dy=\"0em\" style=\"font-family: 'Open Sans', verdana, arial, sans-serif; font-size: 17px; fill: rgb(42, 63, 95); opacity: 1; font-weight: normal; white-space: pre;\">Sami's top 5 emojies used</text></g><g class=\"g-xtitle\"><text class=\"xtitle\" x=\"350\" y=\"410.8\" text-anchor=\"middle\" style=\"font-family: 'Open Sans', verdana, arial, sans-serif; font-size: 14px; fill: rgb(42, 63, 95); opacity: 1; font-weight: normal; white-space: pre;\">Number of times the emoji is used</text></g><g class=\"g-ytitle\"><text class=\"ytitle\" transform=\"rotate(-90,45.2,215)\" x=\"45.2\" y=\"215\" text-anchor=\"middle\" style=\"font-family: 'Open Sans', verdana, arial, sans-serif; font-size: 14px; fill: rgb(42, 63, 95); opacity: 1; font-weight: normal; white-space: pre;\">Emoji</text></g></g></svg>"
          },
          "metadata": {
            "tags": []
          }
        },
        {
          "output_type": "display_data",
          "data": {
            "image/svg+xml": "<svg class=\"main-svg\" xmlns=\"http://www.w3.org/2000/svg\" xmlns:xlink=\"http://www.w3.org/1999/xlink\" width=\"700\" height=\"450\" viewBox=\"0 0 700 450\"><rect x=\"0\" y=\"0\" width=\"700\" height=\"450\" style=\"fill: rgb(255, 255, 255); fill-opacity: 1;\"/><defs id=\"defs-ec2069\"><g class=\"clips\"><clipPath id=\"clipec2069xyplot\" class=\"plotclip\"><rect width=\"540\" height=\"310\"/></clipPath><clipPath class=\"axesclip\" id=\"clipec2069x\"><rect x=\"80\" y=\"0\" width=\"540\" height=\"450\"/></clipPath><clipPath class=\"axesclip\" id=\"clipec2069y\"><rect x=\"0\" y=\"60\" width=\"700\" height=\"310\"/></clipPath><clipPath class=\"axesclip\" id=\"clipec2069xy\"><rect x=\"80\" y=\"60\" width=\"540\" height=\"310\"/></clipPath></g><g class=\"gradients\"/></defs><g class=\"bglayer\"><rect class=\"bg\" x=\"80\" y=\"60\" width=\"540\" height=\"310\" style=\"fill: rgb(229, 236, 246); fill-opacity: 1; stroke-width: 0;\"/></g><g class=\"layer-below\"><g class=\"imagelayer\"/><g class=\"shapelayer\"/></g><g class=\"cartesianlayer\"><g class=\"subplot xy\"><g class=\"layer-subplot\"><g class=\"shapelayer\"/><g class=\"imagelayer\"/></g><g class=\"gridlayer\"><g class=\"x\"><path class=\"xgrid crisp\" transform=\"translate(196.45999999999998,0)\" d=\"M0,60v310\" style=\"stroke: rgb(255, 255, 255); stroke-opacity: 1; stroke-width: 1px;\"/><path class=\"xgrid crisp\" transform=\"translate(312.91999999999996,0)\" d=\"M0,60v310\" style=\"stroke: rgb(255, 255, 255); stroke-opacity: 1; stroke-width: 1px;\"/><path class=\"xgrid crisp\" transform=\"translate(429.38,0)\" d=\"M0,60v310\" style=\"stroke: rgb(255, 255, 255); stroke-opacity: 1; stroke-width: 1px;\"/><path class=\"xgrid crisp\" transform=\"translate(545.8299999999999,0)\" d=\"M0,60v310\" style=\"stroke: rgb(255, 255, 255); stroke-opacity: 1; stroke-width: 1px;\"/></g><g class=\"y\"/></g><g class=\"zerolinelayer\"><path class=\"xzl zl crisp\" transform=\"translate(80,0)\" d=\"M0,60v310\" style=\"stroke: rgb(255, 255, 255); stroke-opacity: 1; stroke-width: 2px;\"/></g><path class=\"xlines-below\"/><path class=\"ylines-below\"/><g class=\"overlines-below\"/><g class=\"xaxislayer-below\"/><g class=\"yaxislayer-below\"/><g class=\"overaxes-below\"/><g class=\"plot\" transform=\"translate(80, 60)\" clip-path=\"url('#clipec2069xyplot')\"><g class=\"barlayer mlayer\"><g class=\"trace bars\" style=\"opacity: 1;\"><g class=\"points\"><g class=\"point\"><path d=\"M0,303.8V254.2H513V303.8Z\" style=\"vector-effect: non-scaling-stroke; opacity: 1; stroke-width: 0.5px; fill: rgb(99, 110, 250); fill-opacity: 1; stroke: rgb(229, 236, 246); stroke-opacity: 1;\"/></g><g class=\"point\"><path d=\"M0,241.8V192.2H149.07V241.8Z\" style=\"vector-effect: non-scaling-stroke; opacity: 1; stroke-width: 0.5px; fill: rgb(99, 110, 250); fill-opacity: 1; stroke: rgb(229, 236, 246); stroke-opacity: 1;\"/></g><g class=\"point\"><path d=\"M0,179.8V130.2H120.53V179.8Z\" style=\"vector-effect: non-scaling-stroke; opacity: 1; stroke-width: 0.5px; fill: rgb(99, 110, 250); fill-opacity: 1; stroke: rgb(229, 236, 246); stroke-opacity: 1;\"/></g><g class=\"point\"><path d=\"M0,117.8V68.2H106.56V117.8Z\" style=\"vector-effect: non-scaling-stroke; opacity: 1; stroke-width: 0.5px; fill: rgb(99, 110, 250); fill-opacity: 1; stroke: rgb(229, 236, 246); stroke-opacity: 1;\"/></g><g class=\"point\"><path d=\"M0,55.8V6.2H85.6V55.8Z\" style=\"vector-effect: non-scaling-stroke; opacity: 1; stroke-width: 0.5px; fill: rgb(99, 110, 250); fill-opacity: 1; stroke: rgb(229, 236, 246); stroke-opacity: 1;\"/></g></g></g></g></g><g class=\"overplot\"/><path class=\"xlines-above crisp\" d=\"M0,0\" style=\"fill: none;\"/><path class=\"ylines-above crisp\" d=\"M0,0\" style=\"fill: none;\"/><g class=\"overlines-above\"/><g class=\"xaxislayer-above\"><g class=\"xtick\"><text text-anchor=\"middle\" x=\"0\" y=\"383\" transform=\"translate(80,0)\" style=\"font-family: 'Open Sans', verdana, arial, sans-serif; font-size: 12px; fill: rgb(42, 63, 95); fill-opacity: 1; white-space: pre;\">0</text></g><g class=\"xtick\"><text text-anchor=\"middle\" x=\"0\" y=\"383\" transform=\"translate(196.45999999999998,0)\" style=\"font-family: 'Open Sans', verdana, arial, sans-serif; font-size: 12px; fill: rgb(42, 63, 95); fill-opacity: 1; white-space: pre;\">200</text></g><g class=\"xtick\"><text text-anchor=\"middle\" x=\"0\" y=\"383\" transform=\"translate(312.91999999999996,0)\" style=\"font-family: 'Open Sans', verdana, arial, sans-serif; font-size: 12px; fill: rgb(42, 63, 95); fill-opacity: 1; white-space: pre;\">400</text></g><g class=\"xtick\"><text text-anchor=\"middle\" x=\"0\" y=\"383\" transform=\"translate(429.38,0)\" style=\"font-family: 'Open Sans', verdana, arial, sans-serif; font-size: 12px; fill: rgb(42, 63, 95); fill-opacity: 1; white-space: pre;\">600</text></g><g class=\"xtick\"><text text-anchor=\"middle\" x=\"0\" y=\"383\" transform=\"translate(545.8299999999999,0)\" style=\"font-family: 'Open Sans', verdana, arial, sans-serif; font-size: 12px; fill: rgb(42, 63, 95); fill-opacity: 1; white-space: pre;\">800</text></g></g><g class=\"yaxislayer-above\"><g class=\"ytick\"><text text-anchor=\"end\" x=\"79\" y=\"4.199999999999999\" transform=\"translate(0,339)\" style=\"font-family: 'Open Sans', verdana, arial, sans-serif; font-size: 12px; fill: rgb(42, 63, 95); fill-opacity: 1; white-space: pre;\">😂</text></g><g class=\"ytick\"><text text-anchor=\"end\" x=\"79\" y=\"4.199999999999999\" transform=\"translate(0,277)\" style=\"font-family: 'Open Sans', verdana, arial, sans-serif; font-size: 12px; fill: rgb(42, 63, 95); fill-opacity: 1; white-space: pre;\">🤭</text></g><g class=\"ytick\"><text text-anchor=\"end\" x=\"79\" y=\"4.199999999999999\" transform=\"translate(0,215)\" style=\"font-family: 'Open Sans', verdana, arial, sans-serif; font-size: 12px; fill: rgb(42, 63, 95); fill-opacity: 1; white-space: pre;\">♂</text></g><g class=\"ytick\"><text text-anchor=\"end\" x=\"79\" y=\"4.199999999999999\" transform=\"translate(0,153)\" style=\"font-family: 'Open Sans', verdana, arial, sans-serif; font-size: 12px; fill: rgb(42, 63, 95); fill-opacity: 1; white-space: pre;\">🤣</text></g><g class=\"ytick\"><text text-anchor=\"end\" x=\"79\" y=\"4.199999999999999\" transform=\"translate(0,91)\" style=\"font-family: 'Open Sans', verdana, arial, sans-serif; font-size: 12px; fill: rgb(42, 63, 95); fill-opacity: 1; white-space: pre;\">🤔</text></g></g><g class=\"overaxes-above\"/></g></g><g class=\"polarlayer\"/><g class=\"ternarylayer\"/><g class=\"geolayer\"/><g class=\"funnelarealayer\"/><g class=\"pielayer\"/><g class=\"treemaplayer\"/><g class=\"sunburstlayer\"/><g class=\"glimages\"/><defs id=\"topdefs-ec2069\"><g class=\"clips\"/></defs><g class=\"layer-above\"><g class=\"imagelayer\"/><g class=\"shapelayer\"/></g><g class=\"infolayer\"><g class=\"g-gtitle\"><text class=\"gtitle\" x=\"35\" y=\"30\" text-anchor=\"start\" dy=\"0em\" style=\"font-family: 'Open Sans', verdana, arial, sans-serif; font-size: 17px; fill: rgb(42, 63, 95); opacity: 1; font-weight: normal; white-space: pre;\">Krishna's top 5 emojies used</text></g><g class=\"g-xtitle\"><text class=\"xtitle\" x=\"350\" y=\"410.8\" text-anchor=\"middle\" style=\"font-family: 'Open Sans', verdana, arial, sans-serif; font-size: 14px; fill: rgb(42, 63, 95); opacity: 1; font-weight: normal; white-space: pre;\">Number of times the emoji is used</text></g><g class=\"g-ytitle\"><text class=\"ytitle\" transform=\"rotate(-90,45.2,215)\" x=\"45.2\" y=\"215\" text-anchor=\"middle\" style=\"font-family: 'Open Sans', verdana, arial, sans-serif; font-size: 14px; fill: rgb(42, 63, 95); opacity: 1; font-weight: normal; white-space: pre;\">Emoji</text></g></g></svg>"
          },
          "metadata": {
            "tags": []
          }
        }
      ]
    },
    {
      "cell_type": "markdown",
      "metadata": {
        "id": "KnpG7exaVLD-",
        "colab_type": "text"
      },
      "source": [
        "###Many plotting libraries are available to express the stats in a great and interactive way.\n",
        "https://www.analyticsvidhya.com/blog/2020/03/6-data-visualization-python-libraries/\n",
        "\n",
        "Make sure to check out the article for very exicting plotting possibilities."
      ]
    },
    {
      "cell_type": "markdown",
      "metadata": {
        "id": "UQD7UWZr6USv",
        "colab_type": "text"
      },
      "source": [
        "The issue of displaying plotly plots on github is solved by referring to,\n",
        " \n",
        "*   https://plotly.com/python/static-image-export/\n",
        "*   https://github.com/nicolaskruchten/plotly_img_test/blob/master/Untitled.ipynb\n",
        "\n"
      ]
    }
  ]
}